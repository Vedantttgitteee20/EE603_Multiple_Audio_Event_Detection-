{
  "nbformat": 4,
  "nbformat_minor": 0,
  "metadata": {
    "colab": {
      "provenance": [],
      "collapsed_sections": [
        "De8-YE4zQruv",
        "C1jxw6GmZCMA",
        "3oOyhiYMZFYx"
      ]
    },
    "kernelspec": {
      "name": "python3",
      "display_name": "Python 3"
    },
    "language_info": {
      "name": "python"
    },
    "accelerator": "GPU",
    "gpuClass": "standard"
  },
  "cells": [
    {
      "cell_type": "markdown",
      "source": [
        "##Loading Libraries"
      ],
      "metadata": {
        "id": "rHWpf_kTPyYC"
      }
    },
    {
      "cell_type": "code",
      "source": [
        "from google.colab import drive\n",
        "drive.mount('/content/drive')"
      ],
      "metadata": {
        "colab": {
          "base_uri": "https://localhost:8080/"
        },
        "id": "C-EpgAYxVcVG",
        "outputId": "0dca3df5-d02b-439c-b08d-8f6e6033a59d"
      },
      "execution_count": 18,
      "outputs": [
        {
          "output_type": "stream",
          "name": "stdout",
          "text": [
            "Drive already mounted at /content/drive; to attempt to forcibly remount, call drive.mount(\"/content/drive\", force_remount=True).\n"
          ]
        }
      ]
    },
    {
      "cell_type": "code",
      "execution_count": 19,
      "metadata": {
        "id": "1oseEPk2y3g_"
      },
      "outputs": [],
      "source": [
        "import torch\n",
        "import torch.nn.functional as F\n",
        "import torch.nn as nn\n",
        "from tqdm import tqdm\n",
        "import torch\n",
        "from torch.utils.data import Dataset, DataLoader\n",
        "import numpy as np\n",
        "import os\n",
        "from torch.autograd import Variable\n",
        "import pandas as pd\n",
        "ROOTDIR = \"/content/drive/MyDrive/dataset\"\n",
        "VALDIR = \"/content/drive/MyDrive/val_dataset/dataset\""
      ]
    },
    {
      "cell_type": "markdown",
      "source": [
        "## Dataloader"
      ],
      "metadata": {
        "id": "ST9Vc72EQdcX"
      }
    },
    {
      "cell_type": "code",
      "source": [
        "class Create_Dataset(Dataset):\n",
        "    def __init__(self, rootdir,x_filenames, y_filenames):\n",
        "        \"\"\"\n",
        "        Args:\n",
        "            csv_file (string): Path to the csv file with annotations.\n",
        "            root_dir (string): Directory with all the images.\n",
        "            transform (callable, optional): Optional transform to be applied\n",
        "                on a sample.\n",
        "        \"\"\"\n",
        "        self.rootdir = rootdir\n",
        "        self.x_filenames = x_filenames\n",
        "        self.y_filenames = y_filenames\n",
        "\n",
        "    def __len__(self):\n",
        "        return len(self.x_filenames)\n",
        "\n",
        "    def __getitem__(self, idx):\n",
        "        spec_path = self.x_filenames[idx]\n",
        "        label_path = self.y_filenames[idx]\n",
        "        spec = np.load(os.path.join(self.rootdir,'X',spec_path))\n",
        "        label = np.load(os.path.join(self.rootdir,'Y',label_path))\n",
        "        label = np.sum(label,axis=1)\n",
        "        label = (label>0)\n",
        "        sample = {'spec': spec, 'label': label}\n",
        "        return sample\n",
        "\n",
        "def dataloader(ROOT,x_file_names, y_file_names, batchsize, num_workers):\n",
        "    data = Create_Dataset(ROOT,x_file_names,y_file_names)\n",
        "    data_loader = DataLoader(data, batch_size=batchsize,num_workers=num_workers,\n",
        "                                              pin_memory=False)\n",
        "    return data_loader"
      ],
      "metadata": {
        "id": "Agx5JsqMQcx8"
      },
      "execution_count": 20,
      "outputs": []
    },
    {
      "cell_type": "markdown",
      "source": [
        "## Network Architecture"
      ],
      "metadata": {
        "id": "De8-YE4zQruv"
      }
    },
    {
      "cell_type": "markdown",
      "source": [
        "### RNN\n"
      ],
      "metadata": {
        "id": "hfN99uLtQPsP"
      }
    },
    {
      "cell_type": "code",
      "source": [
        "class RNN(nn.Module):\n",
        "    def __init__(self, input_size, hidden_size, num_layers, num_classes):\n",
        "        super(RNN, self).__init__()\n",
        "        self.hidden_size = hidden_size\n",
        "        self.num_layers = num_layers\n",
        "        self.lstm = nn.LSTM(input_size, self.hidden_size, self.num_layers, batch_first=True, dropout=0.2)\n",
        "        #self.gru = nn.GRU(input_size, self.hidden_size, self.num_layers, batch_first=True, dropout=0.2)\n",
        "        self.fc1 = nn.Linear(hidden_size, int(hidden_size/2))\n",
        "        self.relu = nn.ReLU()\n",
        "        self.fc2 = nn.Linear(int(hidden_size/2), int(hidden_size/2))\n",
        "        self.fc3 = nn.Linear(int(hidden_size/2), num_classes)\n",
        "    \n",
        "    def forward(self, x):\n",
        "        x = x.float()\n",
        "        h0 = Variable(torch.zeros(self.num_layers, x.size(0), self.hidden_size).float()).cuda() \n",
        "        c0 = Variable(torch.zeros(self.num_layers, x.size(0), self.hidden_size).float()).cuda()\n",
        "        out, _ = self.lstm(x, (h0,c0)) \n",
        "        out = self.relu(self.fc1(out[:, -1, :]))\n",
        "        out = self.relu(self.fc2(out))\n",
        "        out = self.fc3(out) \n",
        "        return out"
      ],
      "metadata": {
        "id": "QGs2aXB5QUwu"
      },
      "execution_count": 21,
      "outputs": []
    },
    {
      "cell_type": "markdown",
      "source": [
        "### VGG 16"
      ],
      "metadata": {
        "id": "DmD1FXk9QzQH"
      }
    },
    {
      "cell_type": "code",
      "source": [
        "class VGG16(nn.Module):\n",
        "    def __init__(self, num_classes=10):\n",
        "        super(VGG16, self).__init__()\n",
        "        self.layer1 = nn.Sequential(\n",
        "            nn.Conv2d(1, 64, kernel_size=3, stride=1, padding=1),\n",
        "            nn.BatchNorm2d(64),\n",
        "            nn.ReLU())\n",
        "        self.layer2 = nn.Sequential(\n",
        "            nn.Conv2d(64, 64, kernel_size=3, stride=1, padding=1),\n",
        "            nn.BatchNorm2d(64),\n",
        "            nn.ReLU(), \n",
        "            nn.MaxPool2d(kernel_size = 2, stride = 2))\n",
        "        self.layer3 = nn.Sequential(\n",
        "            nn.Conv2d(64, 128, kernel_size=3, stride=1, padding=1),\n",
        "            nn.BatchNorm2d(128),\n",
        "            nn.ReLU())\n",
        "        self.layer4 = nn.Sequential(\n",
        "            nn.Conv2d(128, 128, kernel_size=3, stride=1, padding=1),\n",
        "            nn.BatchNorm2d(128),\n",
        "            nn.ReLU(),\n",
        "            nn.MaxPool2d(kernel_size = 2, stride = 2))\n",
        "        self.layer5 = nn.Sequential(\n",
        "            nn.Conv2d(128, 256, kernel_size=3, stride=1, padding=1),\n",
        "            nn.BatchNorm2d(256),\n",
        "            nn.ReLU())\n",
        "        self.layer6 = nn.Sequential(\n",
        "            nn.Conv2d(256, 256, kernel_size=3, stride=1, padding=1),\n",
        "            nn.BatchNorm2d(256),\n",
        "            nn.ReLU())\n",
        "        self.layer7 = nn.Sequential(\n",
        "            nn.Conv2d(256, 256, kernel_size=3, stride=1, padding=1),\n",
        "            nn.BatchNorm2d(256),\n",
        "            nn.ReLU(),\n",
        "            nn.MaxPool2d(kernel_size = 2, stride = 2))\n",
        "        self.layer8 = nn.Sequential(\n",
        "            nn.Conv2d(256, 512, kernel_size=3, stride=1, padding=1),\n",
        "            nn.BatchNorm2d(512),\n",
        "            nn.ReLU())\n",
        "        self.layer9 = nn.Sequential(\n",
        "            nn.Conv2d(512, 512, kernel_size=3, stride=1, padding=1),\n",
        "            nn.BatchNorm2d(512),\n",
        "            nn.ReLU())\n",
        "        self.layer10 = nn.Sequential(\n",
        "            nn.Conv2d(512, 512, kernel_size=3, stride=1, padding=1),\n",
        "            nn.BatchNorm2d(512),\n",
        "            nn.ReLU(),\n",
        "            nn.MaxPool2d(kernel_size = 2, stride = 2))\n",
        "        self.layer11 = nn.Sequential(\n",
        "            nn.Conv2d(512, 512, kernel_size=3, stride=1, padding=1),\n",
        "            nn.BatchNorm2d(512),\n",
        "            nn.ReLU())\n",
        "        self.layer12 = nn.Sequential(\n",
        "            nn.Conv2d(512, 512, kernel_size=3, stride=1, padding=1),\n",
        "            nn.BatchNorm2d(512),\n",
        "            nn.ReLU())\n",
        "        self.layer13 = nn.Sequential(\n",
        "            nn.Conv2d(512, 512, kernel_size=3, stride=1, padding=1),\n",
        "            nn.BatchNorm2d(512),\n",
        "            nn.ReLU(),\n",
        "            nn.MaxPool2d(kernel_size = 2, stride = 2))\n",
        "        self.fc = nn.Sequential(\n",
        "            nn.Dropout(0.5),\n",
        "            nn.Linear(7*7*512, 4096),\n",
        "            nn.ReLU())\n",
        "        self.fc1 = nn.Sequential(\n",
        "            nn.Dropout(0.5),\n",
        "            nn.Linear(4096, 4096),\n",
        "            nn.ReLU())\n",
        "        self.fc2= nn.Sequential(\n",
        "            nn.Linear(4096, num_classes))\n",
        "        \n",
        "    def forward(self, x):\n",
        "        out = self.layer1(x)\n",
        "        out = self.layer2(out)\n",
        "        out = self.layer3(out)\n",
        "        out = self.layer4(out)\n",
        "        out = self.layer5(out)\n",
        "        out = self.layer6(out)\n",
        "        out = self.layer7(out)\n",
        "        out = self.layer8(out)\n",
        "        out = self.layer9(out)\n",
        "        out = self.layer10(out)\n",
        "        out = self.layer11(out)\n",
        "        out = self.layer12(out)\n",
        "        out = self.layer13(out)\n",
        "        out = out.reshape(out.size(0), -1)\n",
        "        out = self.fc(out)\n",
        "        out = self.fc1(out)\n",
        "        out = self.fc2(out)\n",
        "        return out"
      ],
      "metadata": {
        "id": "IZWS8vQRQy8c"
      },
      "execution_count": 22,
      "outputs": []
    },
    {
      "cell_type": "markdown",
      "source": [
        "### Dense network"
      ],
      "metadata": {
        "id": "C1jxw6GmZCMA"
      }
    },
    {
      "cell_type": "code",
      "source": [
        "# define the network class\n",
        "class MyNetwork(nn.Module):\n",
        "    def __init__(self):\n",
        "        # call constructor from superclass\n",
        "        super().__init__()\n",
        "        \n",
        "        # define network layers\n",
        "        self.fc1 = nn.Linear(64000, 16000)\n",
        "        # self.fc2 = nn.Linear(32000, 16000)\n",
        "        self.fc3 = nn.Linear(16000, 4000)\n",
        "        # self.fc4 = nn.Linear(8000, 4000)\n",
        "        self.fc5 = nn.Linear(4000,1024)\n",
        "        # self.fc6 = nn.Linear(2000,1024)\n",
        "        self.fc7 = nn.Linear(1024,512)\n",
        "        self.fc8 = nn.Linear(512,11)\n",
        "        \n",
        "    def forward(self, x):\n",
        "        # define forward pass\n",
        "        x = F.relu(self.fc1(x))\n",
        "        # x = F.relu(self.fc2(x))\n",
        "        x = F.relu(self.fc3(x))\n",
        "        # x = F.relu(self.fc4(x))\n",
        "        x = F.relu(self.fc5(x))\n",
        "        # x = F.relu(self.fc6(x))\n",
        "        x = F.relu(self.fc7(x))\n",
        "        x = F.sigmoid(self.fc8(x))\n",
        "        return x\n",
        "\n",
        "# print model architecture\n",
        "def print_size(net):\n",
        "    \"\"\"\n",
        "    Print the number of parameters of a network\n",
        "    \"\"\"\n",
        "\n",
        "    if net is not None and isinstance(net, torch.nn.Module):\n",
        "        module_parameters = filter(lambda p: p.requires_grad, net.parameters())\n",
        "        params = sum([np.prod(p.size()) for p in module_parameters])\n",
        "        print(\"{} Parameters: {:.6f}M\".format(\n",
        "            net.__class__.__name__, params / 1e6), flush=True)"
      ],
      "metadata": {
        "id": "JNTcZfwgQrRd"
      },
      "execution_count": 23,
      "outputs": []
    },
    {
      "cell_type": "markdown",
      "source": [
        "### Resnet"
      ],
      "metadata": {
        "id": "3oOyhiYMZFYx"
      }
    },
    {
      "cell_type": "code",
      "source": [
        "class Bottleneck(nn.Module):\n",
        "    expansion = 4\n",
        "    def __init__(self, in_channels, out_channels, i_downsample=None, stride=1):\n",
        "        super(Bottleneck, self).__init__()\n",
        "        \n",
        "        self.conv1 = nn.Conv2d(in_channels, out_channels, kernel_size=1, stride=1, padding=0)\n",
        "        self.batch_norm1 = nn.BatchNorm2d(out_channels)\n",
        "        \n",
        "        self.conv2 = nn.Conv2d(out_channels, out_channels, kernel_size=3, stride=stride, padding=1)\n",
        "        self.batch_norm2 = nn.BatchNorm2d(out_channels)\n",
        "        \n",
        "        self.conv3 = nn.Conv2d(out_channels, out_channels*self.expansion, kernel_size=1, stride=1, padding=0)\n",
        "        self.batch_norm3 = nn.BatchNorm2d(out_channels*self.expansion)\n",
        "        \n",
        "        self.i_downsample = i_downsample\n",
        "        self.stride = stride\n",
        "        self.relu = nn.ReLU()\n",
        "        \n",
        "    def forward(self, x):\n",
        "        identity = x.clone()\n",
        "        x = self.relu(self.batch_norm1(self.conv1(x)))\n",
        "        \n",
        "        x = self.relu(self.batch_norm2(self.conv2(x)))\n",
        "        \n",
        "        x = self.conv3(x)\n",
        "        x = self.batch_norm3(x)\n",
        "        \n",
        "        #downsample if needed\n",
        "        if self.i_downsample is not None:\n",
        "            identity = self.i_downsample(identity)\n",
        "        #add identity\n",
        "        x+=identity\n",
        "        x=self.relu(x)\n",
        "        \n",
        "        return x\n",
        "\n",
        "class Block(nn.Module):\n",
        "    expansion = 1\n",
        "    def __init__(self, in_channels, out_channels, i_downsample=None, stride=1):\n",
        "        super(Block, self).__init__()\n",
        "       \n",
        "\n",
        "        self.conv1 = nn.Conv2d(in_channels, out_channels, kernel_size=3, padding=1, stride=stride, bias=False)\n",
        "        self.batch_norm1 = nn.BatchNorm2d(out_channels)\n",
        "        self.conv2 = nn.Conv2d(out_channels, out_channels, kernel_size=3, padding=1, stride=stride, bias=False)\n",
        "        self.batch_norm2 = nn.BatchNorm2d(out_channels)\n",
        "\n",
        "        self.i_downsample = i_downsample\n",
        "        self.stride = stride\n",
        "        self.relu = nn.ReLU()\n",
        "\n",
        "    def forward(self, x):\n",
        "      identity = x.clone()\n",
        "\n",
        "      x = self.relu(self.batch_norm2(self.conv1(x)))\n",
        "      x = self.batch_norm2(self.conv2(x))\n",
        "\n",
        "      if self.i_downsample is not None:\n",
        "          identity = self.i_downsample(identity)\n",
        "      print(x.shape)\n",
        "      print(identity.shape)\n",
        "      x += identity\n",
        "      x = self.relu(x)\n",
        "      return x\n",
        "\n",
        "\n",
        "        \n",
        "        \n",
        "class ResNet(nn.Module):\n",
        "    def __init__(self, ResBlock, layer_list, num_classes, num_channels=3):\n",
        "        super(ResNet, self).__init__()\n",
        "        self.in_channels = 64\n",
        "        \n",
        "        self.conv1 = nn.Conv2d(num_channels, 64, kernel_size=7, stride=2, padding=3, bias=False)\n",
        "        self.batch_norm1 = nn.BatchNorm2d(64)\n",
        "        self.relu = nn.ReLU()\n",
        "        self.max_pool = nn.MaxPool2d(kernel_size = 3, stride=2, padding=1)\n",
        "        \n",
        "        self.layer1 = self._make_layer(ResBlock, layer_list[0], planes=64)\n",
        "        self.layer2 = self._make_layer(ResBlock, layer_list[1], planes=128, stride=2)\n",
        "        self.layer3 = self._make_layer(ResBlock, layer_list[2], planes=256, stride=2)\n",
        "        self.layer4 = self._make_layer(ResBlock, layer_list[3], planes=512, stride=2)\n",
        "        \n",
        "        self.avgpool = nn.AdaptiveAvgPool2d((1,1))\n",
        "        self.fc = nn.Linear(512*ResBlock.expansion, num_classes)\n",
        "        \n",
        "    def forward(self, x):\n",
        "        x = self.relu(self.batch_norm1(self.conv1(x)))\n",
        "        x = self.max_pool(x)\n",
        "\n",
        "        x = self.layer1(x)\n",
        "        x = self.layer2(x)\n",
        "        x = self.layer3(x)\n",
        "        x = self.layer4(x)\n",
        "        \n",
        "        x = self.avgpool(x)\n",
        "        x = x.reshape(x.shape[0], -1)\n",
        "        x = self.fc(x)\n",
        "        x = torch.sigmoid(x)\n",
        "        return x\n",
        "        \n",
        "    def _make_layer(self, ResBlock, blocks, planes, stride=1):\n",
        "        ii_downsample = None\n",
        "        layers = []\n",
        "        \n",
        "        if stride != 1 or self.in_channels != planes*ResBlock.expansion:\n",
        "            ii_downsample = nn.Sequential(\n",
        "                nn.Conv2d(self.in_channels, planes*ResBlock.expansion, kernel_size=1, stride=stride),\n",
        "                nn.BatchNorm2d(planes*ResBlock.expansion)\n",
        "            )\n",
        "            \n",
        "        layers.append(ResBlock(self.in_channels, planes, i_downsample=ii_downsample, stride=stride))\n",
        "        self.in_channels = planes*ResBlock.expansion\n",
        "        \n",
        "        for i in range(blocks-1):\n",
        "            layers.append(ResBlock(self.in_channels, planes))\n",
        "            \n",
        "        return nn.Sequential(*layers)\n",
        "\n",
        "        \n",
        "        \n",
        "def ResNet50(num_classes, channels=3):\n",
        "    return ResNet(Bottleneck, [3,4,6,3], num_classes, channels)\n",
        "    \n",
        "def ResNet101(num_classes, channels=3):\n",
        "    return ResNet(Bottleneck, [3,4,23,3], num_classes, channels)\n",
        "\n",
        "def ResNet152(num_classes, channels=3):\n",
        "    return ResNet(Bottleneck, [3,8,36,3], num_classes, channels)"
      ],
      "metadata": {
        "id": "tOKqfz2OZACH"
      },
      "execution_count": 24,
      "outputs": []
    },
    {
      "cell_type": "markdown",
      "source": [
        "##  Training loop"
      ],
      "metadata": {
        "id": "dNgjkLGtQ4XR"
      }
    },
    {
      "cell_type": "code",
      "source": [
        "loss_function = nn.BCELoss()"
      ],
      "metadata": {
        "id": "2bUD1_ojRM1K"
      },
      "execution_count": 25,
      "outputs": []
    },
    {
      "cell_type": "code",
      "source": [
        "if __name__==\"__main__\":\n",
        "    batch_size = 48\n",
        "    chkpoint_dir = \"/content/drive/MyDrive/EE603_Assignment_2/chkpoints\"\n",
        "    chkpoint_iter = 10\n",
        "    X_file_names = sorted(os.listdir(os.path.join(ROOTDIR,'X')))\n",
        "    Y_file_names = sorted(os.listdir(os.path.join(ROOTDIR,'Y')))\n",
        "    data_loader = dataloader(ROOT=ROOTDIR,x_file_names=X_file_names,\n",
        "                             y_file_names=Y_file_names,batchsize=batch_size,\n",
        "                             num_workers = 4)\n",
        "    X_file_names_val = sorted(os.listdir(os.path.join(VALDIR,'X')))\n",
        "    Y_file_names_val = sorted(os.listdir(os.path.join(VALDIR,'Y')))\n",
        "    validation_loader = dataloader(ROOT=VALDIR, x_file_names=X_file_names_val,\n",
        "                                   y_file_names=Y_file_names_val,batchsize=batch_size,\n",
        "                                   num_workers = 2)\n",
        "    print(\"Dataloader loaded!\")\n",
        "    print(\"Files in train data: \",len(data_loader)*batch_size)\n",
        "    print(\"Files in val data: \",len(validation_loader)*batch_size)\n",
        "    max_iter = 100\n",
        "    # model = MyNetwork()\n",
        "    model = ResNet50(11,channels=1)\n",
        "    model = model.cuda()\n",
        "    print(\"Model loaded!\")\n",
        "    print(\"Number of parameters in the model: \",print_size(model))\n",
        "    optimizer = torch.optim.Adam(params=model.parameters(),lr=0.0001)\n",
        "    print(\"Training started!\")\n",
        "    for iter in range(max_iter):\n",
        "        Loss = []\n",
        "        correct_pred = 0\n",
        "        correct_pred_val = 0\n",
        "        TP = 0\n",
        "        TP_val = 0\n",
        "        FP = 0\n",
        "        FP_val = 0\n",
        "        TN = 0\n",
        "        TN_val = 0\n",
        "        FN = 0\n",
        "        FN_val = 0\n",
        "        model.train()\n",
        "        print(\"Iteration: \",iter)\n",
        "        for batch in tqdm(data_loader):\n",
        "            x = batch[\"spec\"].cuda()\n",
        "            y = batch[\"label\"]\n",
        "            y = y.float()\n",
        "            y = y.cuda()\n",
        "            pred = model(x)\n",
        "            optimizer.zero_grad()\n",
        "            loss = loss_function(pred,y)\n",
        "            pred = (pred>0.5)\n",
        "            correct_pred += torch.sum(pred==y)\n",
        "            TP += torch.sum(torch.logical_and(pred,y))\n",
        "            TN += torch.sum(torch.logical_and(torch.logical_not(pred),torch.logical_not(y)))\n",
        "            FP += torch.sum(torch.logical_and(torch.logical_not(y),pred))\n",
        "            FN += torch.sum(torch.logical_and(torch.logical_not(pred),y))\n",
        "            loss.backward()\n",
        "            optimizer.step()\n",
        "            loss_cpu = loss.detach().cpu()\n",
        "            Loss.append(loss_cpu)\n",
        "        Loss = np.asarray(Loss)\n",
        "        print(\"Loss after iteration {}: \".format(np.mean(Loss)))\n",
        "        total_pred = 11*batch_size*len(data_loader)\n",
        "        recall = TP.item()/(TP.item()+FN.item())\n",
        "        precision = TP.item()/(TP.item()+FP.item())\n",
        "        f1_score = (2 * precision * recall)/(precision+recall)\n",
        "        Accuracy = (correct_pred.item())/total_pred\n",
        "        print(\"---At iteration {}--Accuracy: {}----F1 score: {}----Recall: {}----Precision: {}\".format(iter,Accuracy,f1_score,recall,precision))\n",
        "\n",
        "        # Validation loop\n",
        "        model.eval()\n",
        "        for batch in tqdm(validation_loader):\n",
        "            x = batch[\"spec\"].cuda()\n",
        "            y = batch[\"label\"]\n",
        "            y = y.float()\n",
        "            y = y.cuda()\n",
        "            pred = model(x)\n",
        "            pred = (pred>0.5)\n",
        "            correct_pred_val += torch.sum(pred==y)\n",
        "            TP_val += torch.sum(torch.logical_and(pred,y))\n",
        "            TN_val += torch.sum(torch.logical_and(torch.logical_not(pred),torch.logical_not(y)))\n",
        "            FP_val += torch.sum(torch.logical_and(torch.logical_not(y),pred))\n",
        "            FN_val += torch.sum(torch.logical_and(torch.logical_not(pred),y))\n",
        "        recall_val = TP_val.item()/(TP_val.item()+FN_val.item())\n",
        "        precision_val = TP_val.item()/(TP_val.item()+FP_val.item())\n",
        "        f1_score_val = (2 * precision_val * recall_val)/(precision_val+recall_val)\n",
        "        total_pred_val = 11*batch_size*len(validation_loader)\n",
        "        val_accuracy = (correct_pred_val.item())/total_pred_val\n",
        "        print(\"---At iteration {}--Accuracy: {}----F1 score: {}----Recall: {}----Precision: {}\".format(iter,val_accuracy,f1_score_val,recall_val,precision_val))\n",
        "        # if (iter%chkpoint_iter)==0:\n",
        "        #     chk_file_path = os.path.join(chkpoint_dir,str(iter)+'.pt')\n",
        "        #     torch.save(model.state_dict(),chk_file_path)\n",
        "        #     print(\"Model saved after {} iterations\".format(iter))"
      ],
      "metadata": {
        "id": "G1QPrYZiRFf7",
        "colab": {
          "base_uri": "https://localhost:8080/",
          "height": 920
        },
        "outputId": "5ddcf021-f21f-407a-9cdf-08a7cef98610"
      },
      "execution_count": 38,
      "outputs": [
        {
          "output_type": "stream",
          "name": "stderr",
          "text": [
            "/usr/local/lib/python3.7/dist-packages/torch/utils/data/dataloader.py:566: UserWarning: This DataLoader will create 4 worker processes in total. Our suggested max number of worker in current system is 2, which is smaller than what this DataLoader is going to create. Please be aware that excessive worker creation might get DataLoader running slow or even freeze, lower the worker number to avoid potential slowness/freeze if necessary.\n",
            "  cpuset_checked))\n"
          ]
        },
        {
          "output_type": "stream",
          "name": "stdout",
          "text": [
            "Dataloader loaded!\n",
            "Files in train data:  10032\n",
            "Files in val data:  2016\n",
            "Model loaded!\n",
            "ResNet Parameters: 23.550795M\n",
            "Number of parameters in the model:  None\n",
            "Training started!\n",
            "Iteration:  0\n"
          ]
        },
        {
          "output_type": "stream",
          "name": "stderr",
          "text": [
            "100%|██████████| 209/209 [07:35<00:00,  2.18s/it]\n"
          ]
        },
        {
          "output_type": "stream",
          "name": "stdout",
          "text": [
            "Loss after iteration 0.3050578236579895: \n",
            "---At iteration 0--Accuracy: 0.8794222125561838----F1 score: 0.7325542984556941----Recall: 0.6318920074084627----Precision: 0.8713654223968565\n"
          ]
        },
        {
          "output_type": "stream",
          "name": "stderr",
          "text": [
            "100%|██████████| 42/42 [17:03<00:00, 24.38s/it]\n"
          ]
        },
        {
          "output_type": "stream",
          "name": "stdout",
          "text": [
            "---At iteration 0--Accuracy: 0.8478084415584416----F1 score: 0.6778124685265384----Recall: 0.5873625414557514----Precision: 0.8011904761904762\n",
            "Iteration:  1\n"
          ]
        },
        {
          "output_type": "stream",
          "name": "stderr",
          "text": [
            "100%|██████████| 209/209 [02:14<00:00,  1.55it/s]\n"
          ]
        },
        {
          "output_type": "stream",
          "name": "stdout",
          "text": [
            "Loss after iteration 0.2510567605495453: \n",
            "---At iteration 1--Accuracy: 0.8987512686675366----F1 score: 0.7841455386886357----Recall: 0.7000641116968229----Precision: 0.8911811380639311\n"
          ]
        },
        {
          "output_type": "stream",
          "name": "stderr",
          "text": [
            "100%|██████████| 42/42 [00:11<00:00,  3.79it/s]\n"
          ]
        },
        {
          "output_type": "stream",
          "name": "stdout",
          "text": [
            "---At iteration 1--Accuracy: 0.8621933621933622----F1 score: 0.7204426324985439----Recall: 0.6477570256589282----Precision: 0.8115022960857206\n",
            "Iteration:  2\n"
          ]
        },
        {
          "output_type": "stream",
          "name": "stderr",
          "text": [
            "100%|██████████| 209/209 [02:19<00:00,  1.49it/s]\n"
          ]
        },
        {
          "output_type": "stream",
          "name": "stdout",
          "text": [
            "Loss after iteration 0.21287693083286285: \n",
            "---At iteration 2--Accuracy: 0.9146549224300421----F1 score: 0.824642166344294----Recall: 0.7592605784299757----Precision: 0.9023450728073146\n"
          ]
        },
        {
          "output_type": "stream",
          "name": "stderr",
          "text": [
            "100%|██████████| 42/42 [00:09<00:00,  4.59it/s]\n"
          ]
        },
        {
          "output_type": "stream",
          "name": "stdout",
          "text": [
            "---At iteration 2--Accuracy: 0.8870400432900433----F1 score: 0.7786332097709343----Recall: 0.7149589806248909----Precision: 0.8547579298831386\n",
            "Iteration:  3\n"
          ]
        },
        {
          "output_type": "stream",
          "name": "stderr",
          "text": [
            "  4%|▍         | 9/209 [00:07<02:53,  1.15it/s]\n"
          ]
        },
        {
          "output_type": "error",
          "ename": "KeyboardInterrupt",
          "evalue": "ignored",
          "traceback": [
            "\u001b[0;31m---------------------------------------------------------------------------\u001b[0m",
            "\u001b[0;31mKeyboardInterrupt\u001b[0m                         Traceback (most recent call last)",
            "\u001b[0;32m<ipython-input-38-52d9e89fbdfe>\u001b[0m in \u001b[0;36m<module>\u001b[0;34m\u001b[0m\n\u001b[1;32m     53\u001b[0m             \u001b[0mFN\u001b[0m \u001b[0;34m+=\u001b[0m \u001b[0mtorch\u001b[0m\u001b[0;34m.\u001b[0m\u001b[0msum\u001b[0m\u001b[0;34m(\u001b[0m\u001b[0mtorch\u001b[0m\u001b[0;34m.\u001b[0m\u001b[0mlogical_and\u001b[0m\u001b[0;34m(\u001b[0m\u001b[0mtorch\u001b[0m\u001b[0;34m.\u001b[0m\u001b[0mlogical_not\u001b[0m\u001b[0;34m(\u001b[0m\u001b[0mpred\u001b[0m\u001b[0;34m)\u001b[0m\u001b[0;34m,\u001b[0m\u001b[0my\u001b[0m\u001b[0;34m)\u001b[0m\u001b[0;34m)\u001b[0m\u001b[0;34m\u001b[0m\u001b[0;34m\u001b[0m\u001b[0m\n\u001b[1;32m     54\u001b[0m             \u001b[0mloss\u001b[0m\u001b[0;34m.\u001b[0m\u001b[0mbackward\u001b[0m\u001b[0;34m(\u001b[0m\u001b[0;34m)\u001b[0m\u001b[0;34m\u001b[0m\u001b[0;34m\u001b[0m\u001b[0m\n\u001b[0;32m---> 55\u001b[0;31m             \u001b[0moptimizer\u001b[0m\u001b[0;34m.\u001b[0m\u001b[0mstep\u001b[0m\u001b[0;34m(\u001b[0m\u001b[0;34m)\u001b[0m\u001b[0;34m\u001b[0m\u001b[0;34m\u001b[0m\u001b[0m\n\u001b[0m\u001b[1;32m     56\u001b[0m             \u001b[0mloss_cpu\u001b[0m \u001b[0;34m=\u001b[0m \u001b[0mloss\u001b[0m\u001b[0;34m.\u001b[0m\u001b[0mdetach\u001b[0m\u001b[0;34m(\u001b[0m\u001b[0;34m)\u001b[0m\u001b[0;34m.\u001b[0m\u001b[0mcpu\u001b[0m\u001b[0;34m(\u001b[0m\u001b[0;34m)\u001b[0m\u001b[0;34m\u001b[0m\u001b[0;34m\u001b[0m\u001b[0m\n\u001b[1;32m     57\u001b[0m             \u001b[0mLoss\u001b[0m\u001b[0;34m.\u001b[0m\u001b[0mappend\u001b[0m\u001b[0;34m(\u001b[0m\u001b[0mloss_cpu\u001b[0m\u001b[0;34m)\u001b[0m\u001b[0;34m\u001b[0m\u001b[0;34m\u001b[0m\u001b[0m\n",
            "\u001b[0;32m/usr/local/lib/python3.7/dist-packages/torch/optim/optimizer.py\u001b[0m in \u001b[0;36mwrapper\u001b[0;34m(*args, **kwargs)\u001b[0m\n\u001b[1;32m    111\u001b[0m                 \u001b[0mprofile_name\u001b[0m \u001b[0;34m=\u001b[0m \u001b[0;34m\"Optimizer.step#{}.step\"\u001b[0m\u001b[0;34m.\u001b[0m\u001b[0mformat\u001b[0m\u001b[0;34m(\u001b[0m\u001b[0mobj\u001b[0m\u001b[0;34m.\u001b[0m\u001b[0m__class__\u001b[0m\u001b[0;34m.\u001b[0m\u001b[0m__name__\u001b[0m\u001b[0;34m)\u001b[0m\u001b[0;34m\u001b[0m\u001b[0;34m\u001b[0m\u001b[0m\n\u001b[1;32m    112\u001b[0m                 \u001b[0;32mwith\u001b[0m \u001b[0mtorch\u001b[0m\u001b[0;34m.\u001b[0m\u001b[0mautograd\u001b[0m\u001b[0;34m.\u001b[0m\u001b[0mprofiler\u001b[0m\u001b[0;34m.\u001b[0m\u001b[0mrecord_function\u001b[0m\u001b[0;34m(\u001b[0m\u001b[0mprofile_name\u001b[0m\u001b[0;34m)\u001b[0m\u001b[0;34m:\u001b[0m\u001b[0;34m\u001b[0m\u001b[0;34m\u001b[0m\u001b[0m\n\u001b[0;32m--> 113\u001b[0;31m                     \u001b[0;32mreturn\u001b[0m \u001b[0mfunc\u001b[0m\u001b[0;34m(\u001b[0m\u001b[0;34m*\u001b[0m\u001b[0margs\u001b[0m\u001b[0;34m,\u001b[0m \u001b[0;34m**\u001b[0m\u001b[0mkwargs\u001b[0m\u001b[0;34m)\u001b[0m\u001b[0;34m\u001b[0m\u001b[0;34m\u001b[0m\u001b[0m\n\u001b[0m\u001b[1;32m    114\u001b[0m             \u001b[0;32mreturn\u001b[0m \u001b[0mwrapper\u001b[0m\u001b[0;34m\u001b[0m\u001b[0;34m\u001b[0m\u001b[0m\n\u001b[1;32m    115\u001b[0m \u001b[0;34m\u001b[0m\u001b[0m\n",
            "\u001b[0;32m/usr/local/lib/python3.7/dist-packages/torch/autograd/grad_mode.py\u001b[0m in \u001b[0;36mdecorate_context\u001b[0;34m(*args, **kwargs)\u001b[0m\n\u001b[1;32m     25\u001b[0m         \u001b[0;32mdef\u001b[0m \u001b[0mdecorate_context\u001b[0m\u001b[0;34m(\u001b[0m\u001b[0;34m*\u001b[0m\u001b[0margs\u001b[0m\u001b[0;34m,\u001b[0m \u001b[0;34m**\u001b[0m\u001b[0mkwargs\u001b[0m\u001b[0;34m)\u001b[0m\u001b[0;34m:\u001b[0m\u001b[0;34m\u001b[0m\u001b[0;34m\u001b[0m\u001b[0m\n\u001b[1;32m     26\u001b[0m             \u001b[0;32mwith\u001b[0m \u001b[0mself\u001b[0m\u001b[0;34m.\u001b[0m\u001b[0mclone\u001b[0m\u001b[0;34m(\u001b[0m\u001b[0;34m)\u001b[0m\u001b[0;34m:\u001b[0m\u001b[0;34m\u001b[0m\u001b[0;34m\u001b[0m\u001b[0m\n\u001b[0;32m---> 27\u001b[0;31m                 \u001b[0;32mreturn\u001b[0m \u001b[0mfunc\u001b[0m\u001b[0;34m(\u001b[0m\u001b[0;34m*\u001b[0m\u001b[0margs\u001b[0m\u001b[0;34m,\u001b[0m \u001b[0;34m**\u001b[0m\u001b[0mkwargs\u001b[0m\u001b[0;34m)\u001b[0m\u001b[0;34m\u001b[0m\u001b[0;34m\u001b[0m\u001b[0m\n\u001b[0m\u001b[1;32m     28\u001b[0m         \u001b[0;32mreturn\u001b[0m \u001b[0mcast\u001b[0m\u001b[0;34m(\u001b[0m\u001b[0mF\u001b[0m\u001b[0;34m,\u001b[0m \u001b[0mdecorate_context\u001b[0m\u001b[0;34m)\u001b[0m\u001b[0;34m\u001b[0m\u001b[0;34m\u001b[0m\u001b[0m\n\u001b[1;32m     29\u001b[0m \u001b[0;34m\u001b[0m\u001b[0m\n",
            "\u001b[0;32m/usr/local/lib/python3.7/dist-packages/torch/optim/adam.py\u001b[0m in \u001b[0;36mstep\u001b[0;34m(self, closure)\u001b[0m\n\u001b[1;32m    169\u001b[0m                  \u001b[0mmaximize\u001b[0m\u001b[0;34m=\u001b[0m\u001b[0mgroup\u001b[0m\u001b[0;34m[\u001b[0m\u001b[0;34m'maximize'\u001b[0m\u001b[0;34m]\u001b[0m\u001b[0;34m,\u001b[0m\u001b[0;34m\u001b[0m\u001b[0;34m\u001b[0m\u001b[0m\n\u001b[1;32m    170\u001b[0m                  \u001b[0mforeach\u001b[0m\u001b[0;34m=\u001b[0m\u001b[0mgroup\u001b[0m\u001b[0;34m[\u001b[0m\u001b[0;34m'foreach'\u001b[0m\u001b[0;34m]\u001b[0m\u001b[0;34m,\u001b[0m\u001b[0;34m\u001b[0m\u001b[0;34m\u001b[0m\u001b[0m\n\u001b[0;32m--> 171\u001b[0;31m                  capturable=group['capturable'])\n\u001b[0m\u001b[1;32m    172\u001b[0m \u001b[0;34m\u001b[0m\u001b[0m\n\u001b[1;32m    173\u001b[0m         \u001b[0;32mreturn\u001b[0m \u001b[0mloss\u001b[0m\u001b[0;34m\u001b[0m\u001b[0;34m\u001b[0m\u001b[0m\n",
            "\u001b[0;32m/usr/local/lib/python3.7/dist-packages/torch/optim/adam.py\u001b[0m in \u001b[0;36madam\u001b[0;34m(params, grads, exp_avgs, exp_avg_sqs, max_exp_avg_sqs, state_steps, foreach, capturable, amsgrad, beta1, beta2, lr, weight_decay, eps, maximize)\u001b[0m\n\u001b[1;32m    224\u001b[0m          \u001b[0meps\u001b[0m\u001b[0;34m=\u001b[0m\u001b[0meps\u001b[0m\u001b[0;34m,\u001b[0m\u001b[0;34m\u001b[0m\u001b[0;34m\u001b[0m\u001b[0m\n\u001b[1;32m    225\u001b[0m          \u001b[0mmaximize\u001b[0m\u001b[0;34m=\u001b[0m\u001b[0mmaximize\u001b[0m\u001b[0;34m,\u001b[0m\u001b[0;34m\u001b[0m\u001b[0;34m\u001b[0m\u001b[0m\n\u001b[0;32m--> 226\u001b[0;31m          capturable=capturable)\n\u001b[0m\u001b[1;32m    227\u001b[0m \u001b[0;34m\u001b[0m\u001b[0m\n\u001b[1;32m    228\u001b[0m \u001b[0;34m\u001b[0m\u001b[0m\n",
            "\u001b[0;32m/usr/local/lib/python3.7/dist-packages/torch/optim/adam.py\u001b[0m in \u001b[0;36m_single_tensor_adam\u001b[0;34m(params, grads, exp_avgs, exp_avg_sqs, max_exp_avg_sqs, state_steps, amsgrad, beta1, beta2, lr, weight_decay, eps, maximize, capturable)\u001b[0m\n\u001b[1;32m    303\u001b[0m                 \u001b[0mdenom\u001b[0m \u001b[0;34m=\u001b[0m \u001b[0;34m(\u001b[0m\u001b[0mmax_exp_avg_sqs\u001b[0m\u001b[0;34m[\u001b[0m\u001b[0mi\u001b[0m\u001b[0;34m]\u001b[0m\u001b[0;34m.\u001b[0m\u001b[0msqrt\u001b[0m\u001b[0;34m(\u001b[0m\u001b[0;34m)\u001b[0m \u001b[0;34m/\u001b[0m \u001b[0mbias_correction2_sqrt\u001b[0m\u001b[0;34m)\u001b[0m\u001b[0;34m.\u001b[0m\u001b[0madd_\u001b[0m\u001b[0;34m(\u001b[0m\u001b[0meps\u001b[0m\u001b[0;34m)\u001b[0m\u001b[0;34m\u001b[0m\u001b[0;34m\u001b[0m\u001b[0m\n\u001b[1;32m    304\u001b[0m             \u001b[0;32melse\u001b[0m\u001b[0;34m:\u001b[0m\u001b[0;34m\u001b[0m\u001b[0;34m\u001b[0m\u001b[0m\n\u001b[0;32m--> 305\u001b[0;31m                 \u001b[0mdenom\u001b[0m \u001b[0;34m=\u001b[0m \u001b[0;34m(\u001b[0m\u001b[0mexp_avg_sq\u001b[0m\u001b[0;34m.\u001b[0m\u001b[0msqrt\u001b[0m\u001b[0;34m(\u001b[0m\u001b[0;34m)\u001b[0m \u001b[0;34m/\u001b[0m \u001b[0mbias_correction2_sqrt\u001b[0m\u001b[0;34m)\u001b[0m\u001b[0;34m.\u001b[0m\u001b[0madd_\u001b[0m\u001b[0;34m(\u001b[0m\u001b[0meps\u001b[0m\u001b[0;34m)\u001b[0m\u001b[0;34m\u001b[0m\u001b[0;34m\u001b[0m\u001b[0m\n\u001b[0m\u001b[1;32m    306\u001b[0m \u001b[0;34m\u001b[0m\u001b[0m\n\u001b[1;32m    307\u001b[0m             \u001b[0mparam\u001b[0m\u001b[0;34m.\u001b[0m\u001b[0maddcdiv_\u001b[0m\u001b[0;34m(\u001b[0m\u001b[0mexp_avg\u001b[0m\u001b[0;34m,\u001b[0m \u001b[0mdenom\u001b[0m\u001b[0;34m,\u001b[0m \u001b[0mvalue\u001b[0m\u001b[0;34m=\u001b[0m\u001b[0;34m-\u001b[0m\u001b[0mstep_size\u001b[0m\u001b[0;34m)\u001b[0m\u001b[0;34m\u001b[0m\u001b[0;34m\u001b[0m\u001b[0m\n",
            "\u001b[0;31mKeyboardInterrupt\u001b[0m: "
          ]
        }
      ]
    },
    {
      "cell_type": "markdown",
      "source": [
        "##To Create CSV File"
      ],
      "metadata": {
        "id": "1oapum_l7N50"
      }
    },
    {
      "cell_type": "code",
      "source": [
        "class Create_Testset(Dataset):\n",
        "    def __init__(self, rootdir,x_filenames):\n",
        "        \"\"\"\n",
        "        Args:\n",
        "            csv_file (string): Path to the csv file with annotations.\n",
        "            root_dir (string): Directory with all the images.\n",
        "            transform (callable, optional): Optional transform to be applied\n",
        "                on a sample.\n",
        "        \"\"\"\n",
        "        self.rootdir = rootdir\n",
        "        self.x_filenames = x_filenames\n",
        "\n",
        "    def __len__(self):\n",
        "        return len(self.x_filenames)\n",
        "\n",
        "    def __getitem__(self, idx):\n",
        "        spec_path = self.x_filenames[idx]\n",
        "        # filename = os.path.split(x_filenames[idx])\n",
        "        spec = np.load(os.path.join(self.rootdir,'X',spec_path))\n",
        "        sample = {'spec': spec,'fileid': self.x_filenames[idx]}\n",
        "        return sample\n",
        "\n",
        "def testloader(ROOT,x_file_names, batchsize, num_workers):\n",
        "    data = Create_Testset(ROOT,x_file_names)\n",
        "    test_loader = DataLoader(data, batch_size=batchsize,num_workers=num_workers,\n",
        "                                              pin_memory=False)\n",
        "    return test_loader"
      ],
      "metadata": {
        "id": "32JKMbKlbj0g"
      },
      "execution_count": 39,
      "outputs": []
    },
    {
      "cell_type": "code",
      "source": [
        "torch.save(model.state_dict(),\"/content/drive/MyDrive/EE603_Assignment_2/best_checkpoint.pt\")"
      ],
      "metadata": {
        "id": "967NaPzh_Nc8"
      },
      "execution_count": 40,
      "outputs": []
    },
    {
      "cell_type": "markdown",
      "source": [
        "##Test samples"
      ],
      "metadata": {
        "id": "DXaUMFlp9XYj"
      }
    },
    {
      "cell_type": "code",
      "source": [
        "TESTDIR=\"/content/drive/MyDrive/EE603_TEST_2/test\"\n",
        "# TESTDIR = VALDIR\n",
        "X_file_names_tests = sorted(os.listdir(os.path.join(TESTDIR,'X')))\n",
        "data_loader = testloader(ROOT=TESTDIR,x_file_names=X_file_names_tests,batchsize=batch_size,\n",
        "        num_workers = 1)\n",
        "        # Validation loop\n",
        "model = ResNet50(11,channels=1)\n",
        "chkpoint = torch.load(\"/content/drive/MyDrive/EE603_Assignment_2/best_checkpoint.pt\")\n",
        "model.load_state_dict(chkpoint)\n",
        "model = model.cuda()\n",
        "model.eval()\n",
        "filenames = [] # name of files\n",
        "classes = []  # name of classes\n",
        "events_types = {\n",
        "    0: 'Alarm_bell_ringing', \n",
        "    1: 'Blender', \n",
        "    2: 'Cat', \n",
        "    3: 'Dishes', \n",
        "    4: 'Dog',\n",
        "    5: 'Electric_shaver_toothbrush', \n",
        "    6: 'Frying', \n",
        "    7: 'Running_water',\n",
        "    8: 'Silence', \n",
        "    9: 'Speech', \n",
        "    10: 'Vacuum_cleaner'\n",
        "}\n",
        "for batch in tqdm(data_loader):\n",
        "    x = batch[\"spec\"].cuda()\n",
        "    name = batch[\"fileid\"]\n",
        "    pred = model(x)\n",
        "    pred = (pred>=0.4)\n",
        "    for i in range(pred.shape[0]):\n",
        "      string =''\n",
        "      for j in range(pred.shape[1]):\n",
        "        if pred[i][j]==1 and j!=8:\n",
        "          string+=(events_types[j]+\",\")\n",
        "      classes.append(string[:-1])\n",
        "      filenames.append(name[i])\n",
        "\n",
        "\n",
        "print(classes)\n",
        "print(filenames)\n",
        "df = {\n",
        "    \"fileid\": filenames,\n",
        "    \"prediction\": classes\n",
        "}\n",
        "df = pd.DataFrame(df)\n",
        "df.to_csv('/content/drive/MyDrive/EE603_Assignment_2/prediction_on_val.csv')"
      ],
      "metadata": {
        "colab": {
          "base_uri": "https://localhost:8080/"
        },
        "id": "wgYwHoVjVZfd",
        "outputId": "0bdbb2ff-238c-4f79-8f58-99efd72475bf"
      },
      "execution_count": 34,
      "outputs": [
        {
          "output_type": "stream",
          "name": "stderr",
          "text": [
            "100%|██████████| 53/53 [00:13<00:00,  4.06it/s]"
          ]
        },
        {
          "output_type": "stream",
          "name": "stdout",
          "text": [
            "['Dog,Speech', 'Dishes,Frying,Speech', 'Speech', 'Speech', 'Frying,Running_water,Speech,Vacuum_cleaner', 'Running_water,Speech', 'Running_water,Speech', 'Speech,Vacuum_cleaner', 'Dishes,Frying,Speech', 'Speech', 'Electric_shaver_toothbrush,Speech', 'Dishes,Frying,Speech', 'Dog,Speech', 'Dog,Speech', 'Speech', 'Dog,Speech', 'Speech', 'Dog,Speech', 'Frying,Running_water,Speech', 'Electric_shaver_toothbrush,Speech', 'Speech', 'Dog,Speech', 'Electric_shaver_toothbrush,Speech', 'Dog,Speech', 'Dog,Speech', 'Dog,Speech', 'Dog,Speech', 'Speech', 'Speech', 'Dog,Speech', 'Speech', 'Dishes,Frying,Running_water,Speech', 'Dishes,Frying,Speech', 'Dog,Speech', 'Electric_shaver_toothbrush,Speech', 'Speech', 'Electric_shaver_toothbrush,Speech', 'Speech,Vacuum_cleaner', 'Dog,Speech', 'Speech', 'Speech', 'Speech', 'Frying,Running_water,Speech', 'Speech', 'Dog,Speech', 'Dog,Speech', 'Dog,Running_water,Vacuum_cleaner', 'Speech', 'Dog,Speech', 'Speech', 'Electric_shaver_toothbrush,Speech', 'Speech', 'Frying,Speech', 'Speech,Vacuum_cleaner', 'Dog', 'Speech', 'Dog,Running_water,Speech', 'Electric_shaver_toothbrush,Speech', 'Speech,Vacuum_cleaner', 'Electric_shaver_toothbrush,Speech', 'Electric_shaver_toothbrush,Speech', 'Dog,Speech', 'Speech', 'Speech', 'Dog,Running_water,Speech', 'Dog,Speech', 'Speech,Vacuum_cleaner', 'Speech', 'Speech', 'Electric_shaver_toothbrush,Speech', 'Dog,Speech', 'Speech', 'Dog,Speech', 'Speech', 'Frying,Running_water,Speech', 'Electric_shaver_toothbrush,Speech', 'Electric_shaver_toothbrush,Speech', 'Electric_shaver_toothbrush,Speech', 'Electric_shaver_toothbrush,Speech', 'Dog,Speech', 'Dishes,Frying,Speech', 'Dishes,Frying,Speech', 'Speech', 'Dog,Speech', 'Dishes,Frying,Speech', 'Dishes,Frying,Speech', 'Speech', 'Speech', 'Dog,Speech', 'Speech', 'Electric_shaver_toothbrush,Speech,Vacuum_cleaner', 'Dog,Speech', 'Speech,Vacuum_cleaner', 'Dog,Speech', 'Speech', 'Electric_shaver_toothbrush,Speech', 'Speech', 'Dishes,Frying,Speech', 'Speech', 'Dishes,Frying,Speech', 'Speech', 'Speech', 'Electric_shaver_toothbrush,Speech', 'Electric_shaver_toothbrush,Speech', 'Speech', 'Electric_shaver_toothbrush,Speech', 'Electric_shaver_toothbrush,Speech', 'Speech', 'Electric_shaver_toothbrush,Speech', 'Speech', 'Dishes,Frying,Speech', 'Frying,Speech', 'Speech', 'Speech', 'Dog,Speech', 'Speech', 'Dishes,Frying,Speech', 'Speech', 'Frying,Speech', 'Speech,Vacuum_cleaner', 'Speech,Vacuum_cleaner', 'Electric_shaver_toothbrush,Speech', 'Speech', 'Dog,Speech', 'Running_water,Speech,Vacuum_cleaner', 'Speech', 'Speech', 'Speech', 'Speech,Vacuum_cleaner', 'Electric_shaver_toothbrush,Speech', 'Dog,Speech', 'Speech', 'Speech', 'Speech', 'Speech', 'Speech', 'Speech', 'Dishes,Frying,Running_water,Speech', 'Dog,Speech', 'Dog,Speech', 'Speech', 'Speech', 'Speech', 'Dog,Speech', 'Dog,Speech', 'Speech,Vacuum_cleaner', 'Speech', 'Speech', 'Dishes,Frying,Speech', 'Dog', 'Frying,Speech', 'Dog,Running_water,Speech', 'Running_water,Speech', 'Speech', 'Running_water,Speech', 'Electric_shaver_toothbrush,Speech', 'Dishes,Frying,Speech', 'Dog,Speech', 'Dog,Frying,Running_water,Speech,Vacuum_cleaner', 'Speech,Vacuum_cleaner', 'Speech,Vacuum_cleaner', 'Dog,Speech', 'Speech', 'Speech', 'Speech', 'Speech', 'Speech,Vacuum_cleaner', 'Speech', 'Speech', 'Electric_shaver_toothbrush,Speech', 'Alarm_bell_ringing,Speech', 'Speech', 'Electric_shaver_toothbrush,Speech', 'Dog,Running_water,Speech', 'Speech', 'Speech,Vacuum_cleaner', 'Dog,Speech', 'Electric_shaver_toothbrush,Speech', 'Speech', 'Speech', 'Speech,Vacuum_cleaner', 'Running_water,Speech,Vacuum_cleaner', 'Dog,Speech', 'Dog,Speech', 'Speech', 'Dishes,Frying,Speech', 'Running_water,Speech', 'Speech', 'Dishes,Frying,Speech', 'Speech', 'Speech', 'Dog,Running_water,Speech', 'Running_water,Speech', 'Dog,Speech', 'Speech,Vacuum_cleaner', 'Dog,Speech', 'Dishes,Frying,Speech', 'Electric_shaver_toothbrush,Speech', 'Dog,Speech', 'Alarm_bell_ringing,Speech', 'Speech', 'Frying,Speech', 'Electric_shaver_toothbrush,Speech', 'Speech', 'Speech', 'Dog,Running_water,Speech', 'Speech', 'Dog,Speech', 'Speech,Vacuum_cleaner', 'Blender,Speech,Vacuum_cleaner', 'Dog,Speech', 'Speech', 'Dog,Speech', 'Dog,Speech', 'Electric_shaver_toothbrush,Speech', 'Speech', 'Dog,Speech', 'Frying,Running_water,Speech,Vacuum_cleaner', 'Speech', 'Dog,Speech', 'Speech', 'Dog,Speech', 'Dog,Speech', 'Dog,Speech', 'Speech,Vacuum_cleaner', 'Speech', 'Electric_shaver_toothbrush,Speech', 'Frying,Speech', 'Speech', 'Dog,Speech', 'Speech', 'Speech', 'Speech', 'Electric_shaver_toothbrush,Speech', 'Frying,Running_water,Speech', 'Frying,Speech', 'Dog,Speech', 'Dog,Speech', 'Speech,Vacuum_cleaner', 'Speech,Vacuum_cleaner', 'Dog,Speech', 'Dog,Speech', 'Dishes,Frying,Running_water,Speech', 'Speech', 'Dog,Speech', 'Electric_shaver_toothbrush,Speech,Vacuum_cleaner', 'Electric_shaver_toothbrush,Speech', 'Dog,Speech', 'Speech', 'Running_water,Speech,Vacuum_cleaner', 'Dog,Speech', 'Dog,Speech', 'Dog,Speech', 'Speech', 'Speech,Vacuum_cleaner', 'Dog,Running_water', 'Speech', 'Speech,Vacuum_cleaner', 'Dog,Running_water,Speech', 'Speech', 'Speech,Vacuum_cleaner', 'Dog', 'Speech,Vacuum_cleaner', 'Dog,Speech', 'Alarm_bell_ringing,Speech', 'Speech', 'Speech', 'Speech', 'Speech', 'Electric_shaver_toothbrush,Speech', 'Dog,Speech', 'Speech', 'Electric_shaver_toothbrush,Speech', 'Speech,Vacuum_cleaner', 'Frying,Speech', 'Speech', 'Electric_shaver_toothbrush,Speech', 'Running_water,Speech', 'Dog,Speech', 'Dishes,Speech', 'Dog,Speech', 'Electric_shaver_toothbrush,Speech', 'Speech', 'Speech', 'Dishes,Frying,Speech', 'Speech,Vacuum_cleaner', 'Frying,Running_water,Speech', 'Dog,Speech', 'Dog,Speech', 'Speech', 'Speech', 'Speech,Vacuum_cleaner', 'Dog,Speech', 'Speech', 'Dog,Speech', 'Speech,Vacuum_cleaner', 'Dog,Speech', 'Speech', 'Speech', 'Dishes,Frying,Speech', 'Dog,Speech', 'Dog,Running_water,Speech', 'Speech', 'Speech', 'Speech', 'Speech,Vacuum_cleaner', 'Electric_shaver_toothbrush,Speech', 'Speech', 'Electric_shaver_toothbrush,Speech', 'Electric_shaver_toothbrush,Speech', 'Dog,Running_water,Speech', 'Dog,Speech', 'Dog,Speech', 'Dog,Speech', 'Speech', 'Speech,Vacuum_cleaner', 'Dog,Speech', 'Speech,Vacuum_cleaner', 'Running_water,Speech', 'Running_water,Speech', 'Electric_shaver_toothbrush,Speech', 'Electric_shaver_toothbrush,Speech', 'Speech,Vacuum_cleaner', 'Dog,Speech', 'Electric_shaver_toothbrush,Speech,Vacuum_cleaner', 'Blender,Speech,Vacuum_cleaner', 'Speech', 'Speech', 'Dog,Speech', 'Dog,Running_water,Speech', 'Speech,Vacuum_cleaner', 'Dishes,Frying,Speech', 'Electric_shaver_toothbrush,Speech', 'Speech', 'Electric_shaver_toothbrush,Speech', 'Electric_shaver_toothbrush,Speech', 'Dog,Running_water,Speech', 'Speech', 'Dishes,Frying,Speech', 'Speech', 'Speech', 'Speech,Vacuum_cleaner', 'Electric_shaver_toothbrush,Speech', 'Speech', 'Dog,Running_water,Speech', 'Electric_shaver_toothbrush,Speech', 'Dog,Speech', 'Speech', 'Blender,Speech,Vacuum_cleaner', 'Speech', 'Speech', 'Speech,Vacuum_cleaner', 'Frying,Running_water,Speech', 'Electric_shaver_toothbrush,Speech', 'Dog,Running_water,Speech', 'Speech', 'Speech', 'Speech', 'Speech', 'Dishes,Frying,Speech', 'Dog,Speech', 'Speech,Vacuum_cleaner', 'Speech', 'Speech', 'Speech', 'Dog,Speech', 'Frying,Running_water,Speech', 'Speech', 'Dog,Running_water,Speech', 'Dog,Speech', 'Speech', 'Dog,Speech', 'Electric_shaver_toothbrush,Speech', 'Speech', 'Electric_shaver_toothbrush,Speech', 'Running_water,Speech,Vacuum_cleaner', 'Dishes,Frying,Speech', 'Dog,Running_water,Vacuum_cleaner', 'Dog,Frying,Running_water,Vacuum_cleaner', 'Dog,Speech', 'Electric_shaver_toothbrush,Speech', 'Dishes,Frying,Speech', 'Speech', 'Speech', 'Electric_shaver_toothbrush,Speech', 'Dog,Running_water,Speech', 'Speech', 'Alarm_bell_ringing,Speech', 'Dog,Speech', 'Speech', 'Electric_shaver_toothbrush,Speech', 'Speech', 'Electric_shaver_toothbrush,Speech,Vacuum_cleaner', 'Electric_shaver_toothbrush,Speech', 'Dog,Speech', 'Speech', 'Dishes,Frying,Speech', 'Speech', 'Electric_shaver_toothbrush,Speech', 'Speech', 'Speech', 'Speech,Vacuum_cleaner', 'Speech', 'Speech,Vacuum_cleaner', 'Speech,Vacuum_cleaner', 'Dog,Speech', 'Speech', 'Speech', 'Dishes,Frying,Speech', 'Electric_shaver_toothbrush,Speech', 'Speech', 'Speech', 'Electric_shaver_toothbrush,Speech', 'Dog,Speech', 'Electric_shaver_toothbrush,Speech', 'Speech,Vacuum_cleaner', 'Speech', 'Speech,Vacuum_cleaner', 'Dog,Speech', 'Dog,Speech', 'Speech', 'Electric_shaver_toothbrush,Speech', 'Speech', 'Dog,Running_water,Speech', 'Speech', 'Speech', 'Dishes,Frying,Speech', 'Speech,Vacuum_cleaner', 'Speech', 'Speech', 'Speech', 'Speech,Vacuum_cleaner', 'Speech', 'Speech', 'Speech', 'Speech', 'Speech', 'Electric_shaver_toothbrush,Speech', 'Electric_shaver_toothbrush,Speech', 'Speech,Vacuum_cleaner', 'Speech', 'Speech', 'Electric_shaver_toothbrush,Speech', 'Dog,Speech', 'Speech', 'Dog,Speech', 'Speech', 'Speech', 'Dog,Running_water', 'Speech,Vacuum_cleaner', 'Dog,Running_water,Speech', 'Running_water,Speech', 'Electric_shaver_toothbrush,Speech', 'Speech,Vacuum_cleaner', 'Speech', 'Speech', 'Speech', 'Dishes,Frying,Speech', 'Dog,Frying,Running_water,Vacuum_cleaner', 'Speech', 'Speech', 'Speech', 'Dog,Speech', 'Speech', 'Dog,Speech', 'Speech,Vacuum_cleaner', 'Speech', 'Dishes,Frying,Running_water,Speech', 'Dishes,Frying,Speech', 'Electric_shaver_toothbrush,Speech', 'Speech', 'Dog,Running_water,Speech,Vacuum_cleaner', 'Dog,Speech', 'Dog,Speech', 'Dog,Speech', 'Electric_shaver_toothbrush,Speech', 'Dog,Speech', 'Speech', 'Electric_shaver_toothbrush,Speech', 'Speech', 'Dog,Running_water', 'Speech', 'Dog,Running_water,Speech', 'Speech', 'Speech', 'Running_water,Speech,Vacuum_cleaner', 'Frying,Running_water,Speech', 'Dog,Speech', 'Speech', 'Electric_shaver_toothbrush,Speech', 'Speech', 'Speech', 'Speech', 'Speech', 'Dog,Speech', 'Speech', 'Dishes,Frying,Speech', 'Speech', 'Dog,Speech', 'Speech,Vacuum_cleaner', 'Speech,Vacuum_cleaner', 'Dog,Speech', 'Speech', 'Dog,Running_water,Speech,Vacuum_cleaner', 'Speech', 'Dog,Running_water,Speech', 'Speech', 'Dog,Speech', 'Speech', 'Speech', 'Dog,Speech', 'Electric_shaver_toothbrush,Speech', 'Blender,Speech,Vacuum_cleaner', 'Speech,Vacuum_cleaner', 'Speech', 'Speech', 'Speech,Vacuum_cleaner', 'Dog,Speech', 'Dog,Speech', 'Dog,Speech', 'Dog,Speech', 'Frying,Running_water,Speech,Vacuum_cleaner', 'Speech,Vacuum_cleaner', 'Alarm_bell_ringing,Speech', 'Speech', 'Dog,Speech', 'Speech,Vacuum_cleaner', 'Alarm_bell_ringing,Speech', 'Speech', 'Speech,Vacuum_cleaner', 'Speech', 'Speech,Vacuum_cleaner', 'Dog,Speech', 'Electric_shaver_toothbrush,Speech', 'Speech,Vacuum_cleaner', 'Dog,Speech', 'Dog,Speech', 'Dog,Speech', 'Dog,Speech', 'Speech,Vacuum_cleaner', 'Dog,Running_water,Speech', 'Speech,Vacuum_cleaner', 'Electric_shaver_toothbrush,Speech', 'Speech', 'Speech', 'Electric_shaver_toothbrush,Speech', 'Dog,Speech', 'Dishes,Frying,Speech', 'Electric_shaver_toothbrush,Speech', 'Speech', 'Speech', 'Running_water,Speech', 'Dog,Speech', 'Speech', 'Dog,Speech', 'Speech', 'Speech,Vacuum_cleaner', 'Speech,Vacuum_cleaner', 'Dishes,Frying,Speech', 'Dishes,Frying,Speech', 'Electric_shaver_toothbrush,Speech', 'Speech', 'Speech', 'Speech', 'Dog,Running_water,Speech', 'Dog,Speech', 'Dog', 'Speech', 'Speech', 'Speech', 'Dog,Running_water,Speech', 'Dog,Speech', 'Running_water,Speech', 'Electric_shaver_toothbrush,Speech', 'Speech', 'Electric_shaver_toothbrush,Frying,Speech', 'Dog,Speech', 'Dog,Speech', 'Electric_shaver_toothbrush,Speech', 'Dishes,Frying,Speech', 'Speech', 'Speech', 'Speech', 'Running_water,Speech', 'Dog,Speech', 'Speech', 'Speech,Vacuum_cleaner', 'Speech', 'Speech', 'Speech', 'Dishes,Speech', 'Electric_shaver_toothbrush,Speech', 'Dog,Frying,Running_water,Vacuum_cleaner', 'Dog,Speech', 'Dog,Speech', 'Speech', 'Dog,Speech', 'Speech', 'Running_water,Speech,Vacuum_cleaner', 'Speech', 'Speech', 'Dog,Electric_shaver_toothbrush,Speech', 'Electric_shaver_toothbrush,Speech', 'Dog,Speech', 'Running_water,Speech', 'Running_water,Speech', 'Speech,Vacuum_cleaner', 'Dog,Speech', 'Electric_shaver_toothbrush,Speech', 'Dishes,Frying,Speech', 'Dog,Speech', 'Speech', 'Dishes,Frying,Speech', 'Speech', 'Speech,Vacuum_cleaner', 'Dog,Frying,Speech,Vacuum_cleaner', 'Dog,Speech', 'Speech', 'Alarm_bell_ringing,Dishes,Speech', 'Electric_shaver_toothbrush,Speech', 'Dog,Speech', 'Dishes,Frying,Speech', 'Dog,Speech', 'Cat,Dog,Speech', 'Electric_shaver_toothbrush,Speech', 'Speech,Vacuum_cleaner', 'Dog,Speech', 'Dog,Speech', 'Speech', 'Blender,Speech,Vacuum_cleaner', 'Dog,Speech', 'Dog,Speech', 'Speech,Vacuum_cleaner', 'Speech', 'Dog,Speech', 'Speech', 'Dog,Speech', 'Speech', 'Speech', 'Speech', 'Dog,Speech', 'Dishes,Frying,Speech', 'Dog,Speech', 'Electric_shaver_toothbrush,Speech', 'Electric_shaver_toothbrush,Speech', 'Electric_shaver_toothbrush,Speech', 'Running_water,Speech', 'Dog,Speech', 'Speech,Vacuum_cleaner', 'Speech', 'Speech', 'Speech,Vacuum_cleaner', 'Electric_shaver_toothbrush,Speech', 'Blender,Speech,Vacuum_cleaner', 'Speech', 'Speech', 'Dog,Running_water,Speech', 'Speech', 'Speech,Vacuum_cleaner', 'Speech', 'Speech,Vacuum_cleaner', 'Speech', 'Electric_shaver_toothbrush,Speech,Vacuum_cleaner', 'Electric_shaver_toothbrush,Speech', 'Speech', 'Speech,Vacuum_cleaner', 'Speech', 'Dog,Running_water,Speech', 'Speech', 'Dog,Speech', 'Dog,Speech', 'Speech', 'Speech', 'Dog,Running_water,Speech', 'Speech', 'Speech,Vacuum_cleaner', 'Speech,Vacuum_cleaner', 'Speech,Vacuum_cleaner', 'Dog,Speech', 'Speech', 'Dog,Running_water,Speech', 'Dog,Running_water,Speech', 'Speech', 'Speech', 'Dishes,Frying,Speech', 'Speech', 'Dog,Running_water,Speech', 'Electric_shaver_toothbrush,Speech', 'Electric_shaver_toothbrush,Speech', 'Speech', 'Frying,Speech', 'Dog,Speech', 'Dishes,Frying,Speech', 'Frying,Running_water,Speech', 'Electric_shaver_toothbrush,Speech', 'Dog,Speech', 'Speech', 'Speech', 'Running_water,Speech,Vacuum_cleaner', 'Dishes,Frying,Speech', 'Speech', 'Dog,Frying,Running_water,Speech,Vacuum_cleaner', 'Speech', 'Electric_shaver_toothbrush,Speech', 'Electric_shaver_toothbrush,Speech', 'Dishes,Frying,Speech', 'Dog,Frying,Running_water,Speech,Vacuum_cleaner', 'Dog,Speech', 'Dog,Speech', 'Speech', 'Dog,Frying,Running_water,Vacuum_cleaner', 'Speech', 'Speech,Vacuum_cleaner', 'Electric_shaver_toothbrush,Speech', 'Speech,Vacuum_cleaner', 'Speech', 'Dog,Frying,Running_water,Vacuum_cleaner', 'Dishes,Frying,Speech', 'Dog,Speech', 'Speech', 'Speech', 'Speech', 'Dishes,Frying,Running_water,Speech', 'Speech,Vacuum_cleaner', 'Alarm_bell_ringing,Speech', 'Speech', 'Speech', 'Frying,Running_water,Speech', 'Dishes,Frying,Speech', 'Frying,Running_water,Speech', 'Speech,Vacuum_cleaner', 'Speech', 'Dog,Speech', 'Dog,Frying,Speech,Vacuum_cleaner', 'Dishes,Frying,Speech', 'Speech,Vacuum_cleaner', 'Speech,Vacuum_cleaner', 'Dishes,Frying,Speech', 'Speech', 'Speech', 'Electric_shaver_toothbrush,Speech', 'Dog,Speech', 'Dog,Running_water,Speech', 'Speech', 'Speech', 'Speech', 'Speech,Vacuum_cleaner', 'Speech', 'Dog,Speech', 'Speech', 'Speech', 'Speech', 'Speech', 'Dog,Speech', 'Electric_shaver_toothbrush,Speech', 'Speech', 'Speech', 'Speech', 'Electric_shaver_toothbrush,Speech', 'Speech', 'Speech', 'Speech,Vacuum_cleaner', 'Dog,Running_water,Speech', 'Speech', 'Speech,Vacuum_cleaner', 'Speech,Vacuum_cleaner', 'Speech', 'Speech', 'Dog', 'Dog,Speech', 'Dog,Speech', 'Electric_shaver_toothbrush,Speech', 'Dishes,Frying,Speech', 'Speech', 'Dog,Speech', 'Dog,Speech', 'Speech', 'Speech', 'Speech,Vacuum_cleaner', 'Speech', 'Dog,Speech', 'Speech', 'Speech', 'Electric_shaver_toothbrush,Speech', 'Electric_shaver_toothbrush,Speech', 'Speech', 'Electric_shaver_toothbrush,Speech,Vacuum_cleaner', 'Electric_shaver_toothbrush,Speech', 'Dog,Speech', 'Electric_shaver_toothbrush,Speech', 'Electric_shaver_toothbrush,Speech', 'Electric_shaver_toothbrush,Speech', 'Electric_shaver_toothbrush,Speech', 'Dog,Speech', 'Speech', 'Dishes,Speech', 'Dishes,Frying,Running_water,Speech', 'Speech', 'Frying,Running_water,Speech', 'Dog', 'Speech', 'Speech', 'Electric_shaver_toothbrush,Speech,Vacuum_cleaner', 'Speech', 'Dog,Speech', 'Speech,Vacuum_cleaner', 'Dog,Speech', 'Speech', 'Speech', 'Speech', 'Dog,Speech', 'Dishes,Frying,Speech', 'Speech,Vacuum_cleaner', 'Running_water,Speech', 'Speech', 'Dog,Speech', 'Speech', 'Electric_shaver_toothbrush,Speech', 'Electric_shaver_toothbrush,Speech', 'Speech', 'Speech', 'Speech', 'Speech', 'Speech', 'Speech', 'Dog,Speech', 'Speech', 'Speech', 'Electric_shaver_toothbrush,Speech', 'Speech', 'Dog,Speech', 'Electric_shaver_toothbrush,Speech,Vacuum_cleaner', 'Speech', 'Dog,Speech', 'Electric_shaver_toothbrush,Speech,Vacuum_cleaner', 'Electric_shaver_toothbrush,Speech', 'Dog,Speech', 'Dishes,Frying,Speech', 'Dog,Speech', 'Speech', 'Dishes,Frying,Speech', 'Electric_shaver_toothbrush,Speech', 'Dog,Running_water,Speech', 'Dog,Speech', 'Speech', 'Electric_shaver_toothbrush,Speech', 'Speech', 'Dishes,Frying,Speech', 'Speech', 'Speech,Vacuum_cleaner', 'Speech', 'Speech', 'Dog,Running_water,Speech', 'Speech', 'Speech,Vacuum_cleaner', 'Electric_shaver_toothbrush,Speech', 'Frying,Running_water,Speech', 'Dog,Speech', 'Speech', 'Speech', 'Frying,Running_water,Speech', 'Speech', 'Dog,Speech', 'Dog', 'Dishes,Frying,Speech', 'Dog,Speech', 'Dishes,Frying,Running_water,Speech', 'Speech,Vacuum_cleaner', 'Dog,Speech', 'Dog,Running_water', 'Dog,Speech', 'Electric_shaver_toothbrush,Speech', 'Speech', 'Dog,Running_water,Speech', 'Dog,Speech', 'Speech', 'Electric_shaver_toothbrush,Speech', 'Speech', 'Frying,Speech', 'Running_water,Speech', 'Dog,Speech', 'Frying,Running_water,Speech', 'Speech', 'Electric_shaver_toothbrush,Speech', 'Speech,Vacuum_cleaner', 'Electric_shaver_toothbrush,Speech,Vacuum_cleaner', 'Dog,Speech', 'Dishes,Frying,Speech', 'Electric_shaver_toothbrush,Speech', 'Speech', 'Electric_shaver_toothbrush,Speech', 'Dog,Speech', 'Dog,Speech', 'Speech,Vacuum_cleaner', 'Dog,Speech', 'Dog,Speech', 'Speech', 'Speech,Vacuum_cleaner', 'Speech', 'Speech', 'Speech', 'Dog,Speech', 'Dog,Speech', 'Dog', 'Speech', 'Dog,Frying,Running_water,Speech,Vacuum_cleaner', 'Speech', 'Speech', 'Dog,Running_water,Speech,Vacuum_cleaner', 'Speech', 'Speech,Vacuum_cleaner', 'Dishes,Frying,Speech', 'Speech', 'Electric_shaver_toothbrush,Speech', 'Dog,Running_water,Speech', 'Speech', 'Speech,Vacuum_cleaner', 'Speech,Vacuum_cleaner', 'Speech', 'Speech,Vacuum_cleaner', 'Speech', 'Dog,Speech', 'Speech', 'Speech', 'Electric_shaver_toothbrush,Speech', 'Dog,Speech', 'Speech,Vacuum_cleaner', 'Dog,Speech', 'Speech', 'Speech,Vacuum_cleaner', 'Speech,Vacuum_cleaner', 'Speech', 'Speech', 'Dog,Speech', 'Frying,Running_water,Speech', 'Speech', 'Speech', 'Speech', 'Speech', 'Dog,Running_water,Speech', 'Dog,Speech', 'Speech,Vacuum_cleaner', 'Speech,Vacuum_cleaner', 'Dishes,Frying,Speech', 'Dog,Speech', 'Speech', 'Frying,Running_water,Speech', 'Dog,Frying,Running_water,Speech,Vacuum_cleaner', 'Dishes,Frying,Speech', 'Dishes,Frying,Speech', 'Speech', 'Speech', 'Speech', 'Dog,Running_water,Speech', 'Electric_shaver_toothbrush,Speech', 'Dishes,Speech', 'Speech', 'Speech', 'Speech', 'Dog,Speech', 'Speech,Vacuum_cleaner', 'Speech,Vacuum_cleaner', 'Speech', 'Speech', 'Dog,Frying,Speech,Vacuum_cleaner', 'Speech', 'Electric_shaver_toothbrush,Speech', 'Electric_shaver_toothbrush,Speech', 'Speech', 'Dog,Speech', 'Speech', 'Dog,Running_water,Speech', 'Frying,Speech', 'Dog,Speech', 'Dog,Speech', 'Speech,Vacuum_cleaner', 'Running_water,Vacuum_cleaner', 'Dishes,Frying,Speech', 'Speech,Vacuum_cleaner', 'Dog,Speech', 'Speech', 'Speech', 'Speech', 'Speech', 'Dishes,Frying,Speech', 'Speech', 'Speech', 'Frying,Speech', 'Dog,Speech', 'Dog,Running_water,Speech', 'Dog,Speech', 'Electric_shaver_toothbrush,Speech', 'Speech', 'Dog,Speech', 'Speech', 'Speech,Vacuum_cleaner', 'Dog,Speech', 'Alarm_bell_ringing,Speech', 'Speech,Vacuum_cleaner', 'Dog,Running_water,Speech', 'Dog,Speech', 'Speech,Vacuum_cleaner', 'Speech', 'Dog,Speech', 'Electric_shaver_toothbrush,Speech', 'Dog,Speech', 'Dishes,Frying,Speech', 'Dog,Speech', 'Electric_shaver_toothbrush,Speech', 'Speech', 'Speech', 'Dog,Running_water,Speech,Vacuum_cleaner', 'Speech,Vacuum_cleaner', 'Speech,Vacuum_cleaner', 'Speech', 'Dishes,Frying,Speech', 'Cat,Dog,Speech', 'Speech', 'Speech', 'Speech', 'Electric_shaver_toothbrush,Speech', 'Dog,Speech', 'Dog,Speech', 'Speech', 'Speech', 'Speech,Vacuum_cleaner', 'Speech', 'Frying,Speech', 'Speech', 'Electric_shaver_toothbrush,Speech,Vacuum_cleaner', 'Speech', 'Speech', 'Speech', 'Speech', 'Speech', 'Electric_shaver_toothbrush,Speech', 'Speech,Vacuum_cleaner', 'Electric_shaver_toothbrush,Speech', 'Speech', 'Frying,Running_water,Speech,Vacuum_cleaner', 'Speech', 'Dishes,Frying,Speech', 'Dishes,Frying,Speech', 'Electric_shaver_toothbrush,Speech,Vacuum_cleaner', 'Speech', 'Dog,Frying,Speech,Vacuum_cleaner', 'Dog,Speech', 'Dog,Speech', 'Speech', 'Dog,Speech', 'Speech', 'Speech', 'Dishes,Frying,Speech', 'Speech', 'Speech', 'Speech', 'Speech', 'Speech', 'Dog,Speech', 'Dog,Speech', 'Electric_shaver_toothbrush,Speech,Vacuum_cleaner', 'Speech', 'Speech', 'Dishes,Frying,Speech', 'Speech', 'Dog,Speech', 'Dog,Speech', 'Speech', 'Electric_shaver_toothbrush,Speech', 'Dog,Speech', 'Speech', 'Speech', 'Dog,Speech', 'Dog,Running_water,Speech', 'Electric_shaver_toothbrush,Speech', 'Speech,Vacuum_cleaner', 'Dog,Running_water,Speech,Vacuum_cleaner', 'Running_water,Speech', 'Speech', 'Speech', 'Electric_shaver_toothbrush,Speech', 'Dog,Running_water,Speech', 'Speech', 'Speech,Vacuum_cleaner', 'Speech', 'Speech', 'Speech', 'Dog,Speech', 'Speech', 'Dog,Speech', 'Electric_shaver_toothbrush,Speech', 'Speech', 'Electric_shaver_toothbrush,Speech', 'Speech', 'Dishes,Frying,Speech', 'Dog,Speech', 'Electric_shaver_toothbrush,Speech', 'Speech', 'Speech', 'Dog,Running_water,Speech', 'Dog,Speech', 'Speech', 'Speech', 'Speech', 'Dog,Speech', 'Speech', 'Speech', 'Electric_shaver_toothbrush,Speech', 'Speech', 'Speech,Vacuum_cleaner', 'Dog,Speech', 'Speech,Vacuum_cleaner', 'Electric_shaver_toothbrush,Speech', 'Dishes,Frying,Speech', 'Speech', 'Speech', 'Speech', 'Speech,Vacuum_cleaner', 'Dog,Frying,Running_water,Speech,Vacuum_cleaner', 'Electric_shaver_toothbrush,Speech', 'Speech', 'Speech,Vacuum_cleaner', 'Electric_shaver_toothbrush,Speech', 'Speech', 'Dishes,Frying,Speech', 'Dog,Speech', 'Electric_shaver_toothbrush,Speech', 'Speech,Vacuum_cleaner', 'Speech', 'Electric_shaver_toothbrush,Speech', 'Speech', 'Speech,Vacuum_cleaner', 'Dog,Speech', 'Speech', 'Speech', 'Electric_shaver_toothbrush,Speech', 'Dog,Speech', 'Dog,Speech', 'Speech,Vacuum_cleaner', 'Dog,Frying,Running_water,Vacuum_cleaner', 'Speech', 'Dog,Running_water,Speech', 'Electric_shaver_toothbrush,Speech', 'Speech,Vacuum_cleaner', 'Blender,Speech,Vacuum_cleaner', 'Speech', 'Frying,Speech', 'Speech,Vacuum_cleaner', 'Speech', 'Electric_shaver_toothbrush,Speech', 'Electric_shaver_toothbrush,Speech', 'Electric_shaver_toothbrush,Speech,Vacuum_cleaner', 'Dog,Speech', 'Frying,Running_water,Speech,Vacuum_cleaner', 'Dog,Speech', 'Dog,Running_water,Speech,Vacuum_cleaner', 'Dog,Speech', 'Dishes,Frying,Speech', 'Speech', 'Speech,Vacuum_cleaner', 'Dog,Running_water,Speech', 'Dishes,Frying,Speech', 'Speech', 'Dog,Speech', 'Speech', 'Dog,Speech', 'Speech', 'Speech', 'Dog', 'Dog,Speech', 'Speech', 'Electric_shaver_toothbrush,Speech', 'Dog,Speech', 'Speech,Vacuum_cleaner', 'Dog,Running_water,Speech', 'Speech', 'Speech', 'Dishes,Frying,Speech', 'Dog,Speech', 'Frying,Speech,Vacuum_cleaner', 'Speech', 'Speech', 'Speech', 'Dog,Speech', 'Speech', 'Speech', 'Speech', 'Speech', 'Electric_shaver_toothbrush,Speech,Vacuum_cleaner', 'Dog,Frying,Running_water,Vacuum_cleaner', 'Speech', 'Dog,Running_water,Speech', 'Electric_shaver_toothbrush,Speech', 'Electric_shaver_toothbrush,Speech', 'Speech', 'Speech', 'Dog,Speech', 'Speech', 'Electric_shaver_toothbrush,Speech', 'Dog,Speech', 'Speech', 'Dishes,Frying,Speech', 'Running_water,Speech', 'Speech,Vacuum_cleaner', 'Speech', 'Speech,Vacuum_cleaner', 'Dishes,Speech', 'Cat,Dog,Speech', 'Dog,Speech', 'Speech,Vacuum_cleaner', 'Dog,Speech', 'Speech,Vacuum_cleaner', 'Dog,Speech', 'Dog,Running_water,Speech', 'Dog,Frying,Running_water,Vacuum_cleaner', 'Speech,Vacuum_cleaner', 'Dog,Frying,Running_water,Vacuum_cleaner', 'Electric_shaver_toothbrush,Speech', 'Dog,Speech', 'Running_water,Speech,Vacuum_cleaner', 'Speech,Vacuum_cleaner', 'Dog,Speech', 'Speech,Vacuum_cleaner', 'Speech', 'Electric_shaver_toothbrush,Speech', 'Running_water,Speech,Vacuum_cleaner', 'Speech', 'Speech', 'Speech', 'Speech', 'Dishes,Frying,Speech', 'Dog,Running_water,Speech', 'Speech,Vacuum_cleaner', 'Dog,Speech', 'Speech', 'Speech', 'Dishes,Frying,Speech', 'Dog,Speech', 'Dog,Speech', 'Speech', 'Electric_shaver_toothbrush,Speech', 'Electric_shaver_toothbrush,Speech', 'Speech', 'Speech', 'Speech', 'Dishes,Frying,Speech', 'Speech', 'Electric_shaver_toothbrush,Speech', 'Speech', 'Dog,Speech', 'Electric_shaver_toothbrush,Speech', 'Speech', 'Speech', 'Speech', 'Dog,Speech', 'Dog,Speech', 'Dog,Speech', 'Dog,Speech', 'Speech', 'Speech,Vacuum_cleaner', 'Dog,Speech', 'Speech', 'Speech', 'Dog,Speech', 'Speech', 'Speech', 'Speech', 'Dog,Running_water,Speech', 'Speech', 'Dog,Speech', 'Speech', 'Speech', 'Speech', 'Dog,Speech', 'Speech', 'Dog,Speech', 'Speech', 'Cat,Dog,Speech', 'Speech', 'Speech', 'Speech,Vacuum_cleaner', 'Speech,Vacuum_cleaner', 'Dog,Speech', 'Dog,Speech', 'Dishes,Frying,Running_water,Speech', 'Speech', 'Dishes,Frying,Speech', 'Dishes,Frying,Running_water,Speech', 'Speech', 'Speech', 'Dog,Running_water,Vacuum_cleaner', 'Electric_shaver_toothbrush,Speech', 'Speech', 'Speech', 'Dog,Frying,Running_water,Vacuum_cleaner', 'Speech', 'Speech', 'Dog,Frying,Running_water,Speech,Vacuum_cleaner', 'Running_water,Speech', 'Cat,Dog,Speech', 'Dog,Running_water,Speech', 'Speech', 'Dog,Speech', 'Dog,Speech', 'Electric_shaver_toothbrush,Speech,Vacuum_cleaner', 'Alarm_bell_ringing,Dishes,Speech', 'Speech', 'Speech', 'Electric_shaver_toothbrush,Speech', 'Dishes,Frying,Speech', 'Speech', 'Speech', 'Electric_shaver_toothbrush,Speech', 'Speech,Vacuum_cleaner', 'Speech', 'Speech', 'Speech', 'Electric_shaver_toothbrush,Speech', 'Dishes,Frying,Speech', 'Speech', 'Speech', 'Speech', 'Dog,Speech', 'Dishes,Frying,Speech', 'Dog,Speech', 'Dog,Speech', 'Dog,Speech', 'Speech', 'Dog,Speech', 'Dishes,Frying,Speech', 'Speech', 'Speech', 'Electric_shaver_toothbrush,Speech', 'Dog,Frying,Running_water,Speech,Vacuum_cleaner', 'Dog', 'Speech', 'Speech', 'Electric_shaver_toothbrush,Speech', 'Speech', 'Dog,Speech', 'Speech', 'Speech', 'Alarm_bell_ringing,Speech', 'Electric_shaver_toothbrush,Speech', 'Speech', 'Speech', 'Dishes,Frying,Speech', 'Speech', 'Speech', 'Dishes,Frying,Speech', 'Speech', 'Dog,Running_water,Speech', 'Speech', 'Frying,Speech', 'Alarm_bell_ringing,Dog,Speech', 'Electric_shaver_toothbrush,Speech', 'Dog,Frying,Running_water,Speech,Vacuum_cleaner', 'Running_water,Speech,Vacuum_cleaner', 'Speech', 'Dog,Running_water,Speech', 'Dog,Frying,Running_water,Speech', 'Dog,Speech', 'Speech,Vacuum_cleaner', 'Speech', 'Dishes,Frying,Speech', 'Dishes,Frying,Running_water,Speech', 'Dog,Speech', 'Speech', 'Speech', 'Dog,Speech', 'Speech', 'Frying,Running_water,Speech,Vacuum_cleaner', 'Dishes,Frying,Speech', 'Dog,Speech', 'Running_water,Speech', 'Speech,Vacuum_cleaner', 'Speech', 'Dishes,Frying,Speech', 'Dog,Speech', 'Dog,Speech', 'Dog,Speech', 'Speech', 'Speech', 'Dishes,Frying,Speech', 'Dog,Speech', 'Blender,Speech,Vacuum_cleaner', 'Dog,Speech', 'Dishes,Frying,Speech', 'Dishes,Frying,Speech', 'Electric_shaver_toothbrush,Speech', 'Dog,Speech', 'Electric_shaver_toothbrush,Speech', 'Dishes,Frying,Speech', 'Dog,Speech', 'Dishes,Speech', 'Dog,Speech', 'Electric_shaver_toothbrush,Speech,Vacuum_cleaner', 'Speech', 'Speech', 'Dog,Speech', 'Running_water,Speech', 'Electric_shaver_toothbrush,Speech', 'Dog,Speech', 'Speech,Vacuum_cleaner', 'Dog,Speech', 'Electric_shaver_toothbrush,Speech', 'Dishes,Frying,Speech', 'Dog,Running_water,Vacuum_cleaner', 'Speech', 'Speech', 'Speech', 'Electric_shaver_toothbrush,Speech', 'Frying,Speech', 'Frying,Speech', 'Electric_shaver_toothbrush,Speech', 'Speech', 'Dishes,Frying,Speech', 'Electric_shaver_toothbrush,Speech', 'Frying,Speech', 'Speech', 'Running_water,Speech,Vacuum_cleaner', 'Frying,Speech', 'Speech', 'Dog,Running_water,Speech', 'Dog,Running_water,Speech', 'Dog,Speech', 'Speech', 'Dog,Frying,Running_water,Speech', 'Speech,Vacuum_cleaner', 'Speech', 'Speech', 'Blender,Speech,Vacuum_cleaner', 'Speech,Vacuum_cleaner', 'Speech', 'Electric_shaver_toothbrush,Speech', 'Dog,Speech', 'Dog,Speech', 'Speech', 'Dog,Speech', 'Speech', 'Speech', 'Speech,Vacuum_cleaner', 'Dog,Speech', 'Electric_shaver_toothbrush,Speech,Vacuum_cleaner', 'Running_water,Speech,Vacuum_cleaner', 'Speech,Vacuum_cleaner', 'Dog,Speech', 'Running_water,Speech', 'Speech', 'Dog,Speech', 'Electric_shaver_toothbrush,Speech', 'Speech', 'Speech', 'Dog,Speech', 'Dog,Speech', 'Dog,Speech', 'Electric_shaver_toothbrush,Speech', 'Speech,Vacuum_cleaner', 'Dog,Speech', 'Speech', 'Electric_shaver_toothbrush,Speech', 'Speech', 'Speech', 'Speech', 'Alarm_bell_ringing,Speech', 'Dog,Speech', 'Speech', 'Speech', 'Speech', 'Speech,Vacuum_cleaner', 'Speech', 'Dog,Speech', 'Speech', 'Electric_shaver_toothbrush,Frying,Speech', 'Dog,Running_water,Speech', 'Speech', 'Speech', 'Speech', 'Speech', 'Dog,Speech', 'Speech', 'Electric_shaver_toothbrush,Speech', 'Speech,Vacuum_cleaner', 'Dog,Speech', 'Speech,Vacuum_cleaner', 'Dog,Speech', 'Speech', 'Speech', 'Speech', 'Dishes,Frying,Speech', 'Dog,Frying,Running_water,Speech', 'Speech,Vacuum_cleaner', 'Dog,Speech', 'Speech,Vacuum_cleaner', 'Speech', 'Frying,Speech', 'Speech,Vacuum_cleaner', 'Speech', 'Electric_shaver_toothbrush,Speech,Vacuum_cleaner', 'Speech', 'Speech', 'Speech,Vacuum_cleaner', 'Speech,Vacuum_cleaner', 'Speech', 'Speech', 'Speech', 'Speech', 'Electric_shaver_toothbrush,Speech,Vacuum_cleaner', 'Speech', 'Frying,Speech', 'Dog,Running_water,Speech', 'Speech', 'Dog,Frying,Running_water,Speech', 'Dog,Speech', 'Dog,Speech', 'Speech', 'Speech', 'Speech', 'Speech', 'Speech', 'Speech', 'Running_water,Speech', 'Electric_shaver_toothbrush,Speech', 'Speech', 'Dog', 'Speech', 'Speech', 'Speech,Vacuum_cleaner', 'Speech,Vacuum_cleaner', 'Speech', 'Electric_shaver_toothbrush,Speech', 'Speech,Vacuum_cleaner', 'Speech,Vacuum_cleaner', 'Frying,Speech', 'Speech', 'Speech', 'Dog,Speech', 'Dishes,Frying,Speech', 'Speech,Vacuum_cleaner', 'Dog,Speech', 'Frying,Running_water,Speech,Vacuum_cleaner', 'Electric_shaver_toothbrush,Speech', 'Speech', 'Dog,Speech', 'Dog,Speech', 'Speech,Vacuum_cleaner', 'Dishes,Frying,Speech', 'Dog,Speech', 'Speech,Vacuum_cleaner', 'Dog,Speech', 'Speech', 'Dog,Speech', 'Electric_shaver_toothbrush,Speech', 'Speech,Vacuum_cleaner', 'Dog,Running_water,Speech,Vacuum_cleaner', 'Electric_shaver_toothbrush,Speech', 'Speech', 'Electric_shaver_toothbrush,Speech,Vacuum_cleaner', 'Dog,Speech', 'Dog,Speech', 'Electric_shaver_toothbrush,Speech', 'Speech,Vacuum_cleaner', 'Speech', 'Speech', 'Speech', 'Speech', 'Electric_shaver_toothbrush,Speech,Vacuum_cleaner', 'Speech', 'Dog,Speech', 'Electric_shaver_toothbrush,Speech', 'Speech', 'Speech', 'Electric_shaver_toothbrush,Speech', 'Frying,Running_water,Speech,Vacuum_cleaner', 'Dog,Speech', 'Speech,Vacuum_cleaner', 'Speech,Vacuum_cleaner', 'Speech,Vacuum_cleaner', 'Dog,Speech', 'Dog,Speech', 'Speech,Vacuum_cleaner', 'Dog,Speech', 'Electric_shaver_toothbrush,Speech', 'Dishes,Frying,Speech', 'Speech', 'Dog,Speech', 'Running_water,Speech', 'Electric_shaver_toothbrush,Speech', 'Dog,Speech', 'Speech', 'Speech', 'Dog,Speech', 'Speech', 'Dog,Speech', 'Speech', 'Electric_shaver_toothbrush,Speech', 'Speech,Vacuum_cleaner', 'Electric_shaver_toothbrush,Speech', 'Speech', 'Dog,Speech', 'Blender,Speech,Vacuum_cleaner', 'Dog,Speech', 'Dishes,Frying,Speech', 'Speech', 'Speech,Vacuum_cleaner', 'Speech,Vacuum_cleaner', 'Running_water,Speech', 'Dog,Speech', 'Speech', 'Dog,Speech', 'Dog,Running_water,Vacuum_cleaner', 'Speech', 'Frying,Running_water,Speech', 'Frying,Running_water,Speech', 'Dog,Running_water,Speech', 'Speech,Vacuum_cleaner', 'Speech', 'Speech,Vacuum_cleaner', 'Speech', 'Dog,Speech', 'Speech,Vacuum_cleaner', 'Dog,Speech', 'Dog,Speech', 'Electric_shaver_toothbrush,Speech,Vacuum_cleaner', 'Dishes,Frying,Speech', 'Running_water,Speech', 'Speech', 'Speech', 'Electric_shaver_toothbrush,Speech', 'Electric_shaver_toothbrush,Speech', 'Electric_shaver_toothbrush,Speech', 'Speech', 'Speech', 'Dog,Speech', 'Electric_shaver_toothbrush,Speech', 'Electric_shaver_toothbrush,Speech', 'Speech', 'Speech', 'Dog,Speech', 'Dog,Speech', 'Dishes,Frying,Speech', 'Electric_shaver_toothbrush,Speech', 'Speech,Vacuum_cleaner', 'Frying,Speech', 'Speech', 'Dog,Speech', 'Speech', 'Speech', 'Dishes,Frying,Speech', 'Dog,Speech', 'Speech,Vacuum_cleaner', 'Dishes,Frying,Speech', 'Speech', 'Speech,Vacuum_cleaner', 'Electric_shaver_toothbrush,Speech', 'Dog,Speech', 'Dog,Speech', 'Electric_shaver_toothbrush,Frying,Speech', 'Dog,Running_water,Speech', 'Speech', 'Speech', 'Dog,Running_water,Speech', 'Speech,Vacuum_cleaner', 'Speech', 'Dog,Speech', 'Dishes,Frying,Speech', 'Electric_shaver_toothbrush,Speech', 'Running_water,Speech', 'Dog,Running_water,Speech', 'Dog,Running_water,Speech', 'Speech', 'Speech,Vacuum_cleaner', 'Speech', 'Speech', 'Dishes,Frying,Speech', 'Dog,Speech', 'Speech', 'Dishes,Frying,Speech', 'Dishes,Frying,Speech', 'Speech', 'Dishes,Frying,Speech', 'Dog,Speech', 'Speech', 'Electric_shaver_toothbrush,Speech', 'Dog,Speech', 'Speech', 'Dishes,Frying,Speech', 'Dog,Speech', 'Speech', 'Speech', 'Speech', 'Speech', 'Dog,Speech', 'Speech,Vacuum_cleaner', 'Dishes,Frying,Speech', 'Dog,Speech', 'Speech', 'Speech', 'Speech,Vacuum_cleaner', 'Frying,Speech', 'Speech', 'Speech,Vacuum_cleaner', 'Dog,Speech', 'Dog,Speech', 'Speech', 'Speech,Vacuum_cleaner', 'Speech', 'Speech', 'Speech', 'Speech', 'Electric_shaver_toothbrush,Speech', 'Speech', 'Speech', 'Speech,Vacuum_cleaner', 'Running_water,Speech', 'Speech', 'Speech,Vacuum_cleaner', 'Dishes,Frying,Speech', 'Speech', 'Speech', 'Dishes,Frying,Speech', 'Speech', 'Speech', 'Dog,Speech', 'Electric_shaver_toothbrush,Speech', 'Speech', 'Electric_shaver_toothbrush,Speech', 'Speech', 'Speech', 'Speech', 'Electric_shaver_toothbrush,Speech', 'Speech,Vacuum_cleaner', 'Dishes,Frying,Speech', 'Dishes,Frying,Speech', 'Speech', 'Speech', 'Dog,Speech', 'Electric_shaver_toothbrush,Speech', 'Electric_shaver_toothbrush,Speech,Vacuum_cleaner', 'Speech', 'Speech', 'Electric_shaver_toothbrush,Speech', 'Speech', 'Speech', 'Speech', 'Dog,Speech', 'Dog,Speech', 'Speech,Vacuum_cleaner', 'Speech', 'Speech', 'Speech', 'Speech,Vacuum_cleaner', 'Dog,Speech', 'Speech', 'Dog,Speech', 'Electric_shaver_toothbrush,Speech', 'Speech', 'Speech', 'Speech', 'Speech', 'Speech', 'Speech', 'Electric_shaver_toothbrush,Speech', 'Speech', 'Speech,Vacuum_cleaner', 'Speech,Vacuum_cleaner', 'Electric_shaver_toothbrush,Speech,Vacuum_cleaner', 'Speech', 'Dog,Speech', 'Dog,Speech', 'Dog,Speech', 'Dog,Speech', 'Electric_shaver_toothbrush,Speech', 'Speech', 'Speech', 'Speech,Vacuum_cleaner', 'Dog,Speech', 'Speech', 'Electric_shaver_toothbrush,Speech', 'Frying,Running_water,Speech,Vacuum_cleaner', 'Running_water,Speech,Vacuum_cleaner', 'Speech,Vacuum_cleaner', 'Speech', 'Speech', 'Speech,Vacuum_cleaner', 'Dishes,Frying,Speech', 'Speech', 'Speech', 'Speech,Vacuum_cleaner', 'Speech,Vacuum_cleaner', 'Speech', 'Electric_shaver_toothbrush,Speech', 'Speech', 'Electric_shaver_toothbrush,Speech', 'Speech', 'Dog,Running_water,Speech', 'Speech', 'Speech', 'Electric_shaver_toothbrush,Speech', 'Dog,Speech', 'Dog,Speech', 'Dishes,Frying,Speech', 'Speech', 'Dog,Speech', 'Speech', 'Speech', 'Speech,Vacuum_cleaner', 'Speech,Vacuum_cleaner', 'Speech', 'Dog,Speech', 'Dishes,Frying,Speech', 'Speech', 'Dog,Speech', 'Speech,Vacuum_cleaner', 'Dog,Running_water,Speech', 'Electric_shaver_toothbrush,Speech', 'Speech', 'Speech', 'Electric_shaver_toothbrush,Speech', 'Dishes,Frying,Speech', 'Speech', 'Speech,Vacuum_cleaner', 'Dishes,Frying,Speech', 'Dog,Speech', 'Dishes,Frying,Speech', 'Dog,Running_water,Speech', 'Speech', 'Speech', 'Speech', 'Dog,Speech', 'Dog,Speech', 'Speech', 'Electric_shaver_toothbrush,Speech,Vacuum_cleaner', 'Speech', 'Dog,Speech', 'Speech', 'Speech', 'Speech', 'Speech', 'Dishes,Frying,Speech', 'Dishes,Frying,Speech', 'Speech,Vacuum_cleaner', 'Dog,Speech', 'Speech', 'Speech', 'Dog,Speech', 'Speech', 'Electric_shaver_toothbrush,Speech', 'Dog,Speech', 'Running_water,Speech', 'Electric_shaver_toothbrush,Speech', 'Electric_shaver_toothbrush,Speech', 'Speech', 'Speech', 'Speech', 'Frying,Speech', 'Frying,Speech', 'Speech', 'Dog,Speech', 'Speech', 'Electric_shaver_toothbrush,Speech', 'Speech', 'Dog,Speech', 'Speech', 'Speech', 'Dishes,Frying,Speech', 'Speech', 'Electric_shaver_toothbrush,Speech', 'Dishes,Frying,Speech', 'Electric_shaver_toothbrush,Speech', 'Dog,Speech', 'Running_water,Speech', 'Speech,Vacuum_cleaner', 'Dog,Speech', 'Speech,Vacuum_cleaner', 'Speech', 'Dishes,Frying,Speech', 'Speech', 'Dog,Speech', 'Electric_shaver_toothbrush,Speech', 'Dog,Speech', 'Speech,Vacuum_cleaner', 'Speech', 'Speech', 'Electric_shaver_toothbrush,Speech', 'Dog,Speech', 'Electric_shaver_toothbrush,Speech', 'Dog,Speech', 'Electric_shaver_toothbrush,Speech', 'Speech', 'Speech,Vacuum_cleaner', 'Dishes,Frying,Speech', 'Speech', 'Dog,Speech', 'Dog,Speech', 'Dog,Speech', 'Speech,Vacuum_cleaner', 'Dishes,Frying,Speech', 'Speech', 'Dishes,Frying,Speech', 'Speech', 'Electric_shaver_toothbrush,Speech', 'Dog,Speech', 'Dog,Speech', 'Speech', 'Dishes,Frying,Speech', 'Speech', 'Electric_shaver_toothbrush,Speech', 'Dog,Running_water,Speech', 'Dog,Speech', 'Dog,Speech', 'Speech', 'Speech', 'Speech', 'Speech', 'Electric_shaver_toothbrush,Speech', 'Electric_shaver_toothbrush,Speech,Vacuum_cleaner', 'Electric_shaver_toothbrush,Speech', 'Speech', 'Speech', 'Dog,Speech', 'Speech,Vacuum_cleaner', 'Speech', 'Electric_shaver_toothbrush,Speech', 'Speech,Vacuum_cleaner', 'Frying,Speech', 'Electric_shaver_toothbrush,Speech', 'Dog,Running_water,Speech,Vacuum_cleaner', 'Speech,Vacuum_cleaner', 'Dog,Speech', 'Dog,Speech', 'Speech', 'Speech,Vacuum_cleaner', 'Speech', 'Dishes,Frying,Speech', 'Speech', 'Speech', 'Speech,Vacuum_cleaner', 'Electric_shaver_toothbrush,Speech', 'Running_water,Speech', 'Dog,Speech', 'Speech', 'Speech', 'Speech', 'Speech', 'Dog,Speech', 'Dog,Running_water,Speech', 'Dog,Running_water,Speech', 'Alarm_bell_ringing,Speech', 'Running_water,Speech', 'Dog,Speech', 'Dog,Speech', 'Speech', 'Dishes,Frying,Running_water,Speech', 'Electric_shaver_toothbrush,Speech', 'Speech', 'Dog,Speech', 'Speech,Vacuum_cleaner', 'Alarm_bell_ringing,Speech', 'Electric_shaver_toothbrush,Speech', 'Speech,Vacuum_cleaner', 'Dishes,Speech', 'Dog,Speech', 'Electric_shaver_toothbrush,Speech', 'Speech', 'Dog,Running_water,Speech', 'Dishes,Speech', 'Dog,Running_water,Vacuum_cleaner', 'Dog,Speech', 'Speech', 'Dog,Speech', 'Speech,Vacuum_cleaner', 'Speech', 'Dog,Speech', 'Electric_shaver_toothbrush,Speech', 'Speech', 'Speech', 'Speech', 'Blender,Speech,Vacuum_cleaner', 'Running_water,Speech,Vacuum_cleaner', 'Electric_shaver_toothbrush,Speech,Vacuum_cleaner', 'Running_water,Speech', 'Electric_shaver_toothbrush,Speech', 'Frying,Speech', 'Dog,Speech', 'Dog,Speech', 'Electric_shaver_toothbrush,Speech', 'Electric_shaver_toothbrush,Speech', 'Speech,Vacuum_cleaner', 'Speech', 'Speech', 'Dog,Speech', 'Running_water,Speech', 'Speech,Vacuum_cleaner', 'Speech', 'Speech', 'Dog,Speech', 'Dishes,Frying,Speech', 'Speech', 'Speech', 'Speech,Vacuum_cleaner', 'Speech', 'Speech', 'Speech', 'Dog,Speech', 'Dog,Speech', 'Frying,Speech', 'Frying,Speech', 'Dog,Speech', 'Speech', 'Speech', 'Frying,Running_water,Speech', 'Speech', 'Speech', 'Dog,Running_water,Speech', 'Speech', 'Speech', 'Speech', 'Speech', 'Speech', 'Speech', 'Speech', 'Dog,Speech', 'Dog,Running_water,Speech', 'Speech,Vacuum_cleaner', 'Speech', 'Dog,Speech', 'Speech', 'Dog,Speech', 'Speech,Vacuum_cleaner', 'Electric_shaver_toothbrush,Speech', 'Speech', 'Electric_shaver_toothbrush,Speech', 'Speech', 'Speech', 'Speech', 'Speech', 'Speech', 'Speech', 'Dog,Speech', 'Speech', 'Dishes,Frying,Running_water,Speech', 'Speech', 'Frying,Running_water,Speech', 'Electric_shaver_toothbrush,Speech,Vacuum_cleaner', 'Speech', 'Speech', 'Dog,Speech', 'Speech', 'Speech,Vacuum_cleaner', 'Speech', 'Dog,Running_water,Speech', 'Electric_shaver_toothbrush,Speech', 'Dishes,Frying,Speech', 'Dog,Speech', 'Dog,Speech', 'Speech', 'Speech,Vacuum_cleaner', 'Frying,Running_water,Speech,Vacuum_cleaner', 'Speech', 'Speech,Vacuum_cleaner', 'Speech', 'Electric_shaver_toothbrush,Speech', 'Electric_shaver_toothbrush,Speech', 'Dog,Speech', 'Dog,Speech', 'Dog,Speech', 'Speech', 'Speech', 'Dog,Running_water,Speech', 'Electric_shaver_toothbrush,Speech,Vacuum_cleaner', 'Speech', 'Speech', 'Speech,Vacuum_cleaner', 'Speech', 'Electric_shaver_toothbrush,Speech', 'Speech,Vacuum_cleaner', 'Electric_shaver_toothbrush,Speech', 'Speech', 'Speech,Vacuum_cleaner', 'Speech', 'Electric_shaver_toothbrush,Speech,Vacuum_cleaner', 'Speech', 'Electric_shaver_toothbrush,Speech', 'Dog,Speech', 'Dishes,Frying,Speech', 'Dog,Speech', 'Dishes,Frying,Speech', 'Cat,Dog,Speech', 'Speech,Vacuum_cleaner', 'Speech', 'Frying,Running_water,Speech', 'Electric_shaver_toothbrush,Speech', 'Speech', 'Speech', 'Speech', 'Speech', 'Dog,Speech', 'Speech,Vacuum_cleaner', 'Speech', 'Dog,Frying,Speech,Vacuum_cleaner', 'Electric_shaver_toothbrush,Speech', 'Speech', 'Dog,Speech', 'Speech,Vacuum_cleaner', 'Speech', 'Speech', 'Dog,Running_water,Speech', 'Dog,Speech', 'Electric_shaver_toothbrush,Speech', 'Dog,Speech', 'Dog,Speech', 'Speech', 'Speech', 'Speech', 'Speech,Vacuum_cleaner', 'Electric_shaver_toothbrush,Speech', 'Speech', 'Speech', 'Electric_shaver_toothbrush,Speech', 'Dog,Speech', 'Speech', 'Speech', 'Speech', 'Dishes,Frying,Speech', 'Speech', 'Speech', 'Speech', 'Dog,Speech', 'Speech', 'Dishes,Frying,Speech', 'Dog,Frying,Running_water,Vacuum_cleaner', 'Dog,Speech', 'Electric_shaver_toothbrush,Speech', 'Speech', 'Speech', 'Speech', 'Speech,Vacuum_cleaner', 'Speech', 'Speech', 'Dog,Speech', 'Dog,Speech', 'Speech', 'Running_water,Speech', 'Electric_shaver_toothbrush,Speech', 'Dog,Running_water,Speech', 'Alarm_bell_ringing,Dishes,Speech', 'Speech', 'Speech', 'Speech,Vacuum_cleaner', 'Dog,Speech', 'Dog,Speech', 'Dog,Speech', 'Cat,Dog,Speech', 'Speech', 'Electric_shaver_toothbrush,Speech', 'Dog,Speech', 'Speech', 'Speech', 'Dog,Speech', 'Speech', 'Speech', 'Electric_shaver_toothbrush,Speech', 'Dog', 'Dog,Speech', 'Speech', 'Dog,Running_water,Speech', 'Speech,Vacuum_cleaner', 'Speech,Vacuum_cleaner', 'Speech,Vacuum_cleaner', 'Speech,Vacuum_cleaner', 'Dishes,Frying,Speech', 'Electric_shaver_toothbrush,Speech', 'Dog,Speech', 'Dog,Speech', 'Blender,Speech,Vacuum_cleaner', 'Dishes,Frying,Speech', 'Speech', 'Dishes,Frying,Speech', 'Speech,Vacuum_cleaner', 'Frying,Running_water,Speech,Vacuum_cleaner', 'Speech', 'Speech', 'Dog,Speech', 'Electric_shaver_toothbrush,Speech,Vacuum_cleaner', 'Speech', 'Frying,Running_water,Speech', 'Dishes,Frying,Speech', 'Electric_shaver_toothbrush,Speech', 'Speech', 'Dog,Speech', 'Speech', 'Dog,Speech', 'Speech', 'Speech', 'Speech', 'Electric_shaver_toothbrush,Speech', 'Speech', 'Speech', 'Dog,Running_water,Speech', 'Dog,Frying,Running_water,Vacuum_cleaner', 'Frying,Running_water,Speech,Vacuum_cleaner', 'Dog,Speech', 'Dog,Running_water,Speech', 'Dog,Running_water,Speech', 'Dishes,Frying,Speech', 'Speech', 'Electric_shaver_toothbrush,Speech', 'Speech', 'Speech', 'Speech,Vacuum_cleaner', 'Frying,Speech', 'Dog,Speech', 'Speech', 'Running_water,Speech', 'Dog,Running_water,Speech', 'Speech', 'Electric_shaver_toothbrush,Speech', 'Speech', 'Electric_shaver_toothbrush,Speech', 'Speech', 'Dog,Speech', 'Electric_shaver_toothbrush,Speech,Vacuum_cleaner', 'Dishes,Frying,Speech', 'Speech,Vacuum_cleaner', 'Electric_shaver_toothbrush,Speech', 'Dog,Speech', 'Speech,Vacuum_cleaner', 'Speech', 'Electric_shaver_toothbrush,Speech', 'Dishes,Frying,Speech', 'Dog,Speech', 'Speech', 'Speech', 'Speech', 'Speech', 'Speech,Vacuum_cleaner', 'Frying,Speech', 'Speech', 'Electric_shaver_toothbrush,Speech', 'Speech,Vacuum_cleaner', 'Speech', 'Frying,Speech', 'Electric_shaver_toothbrush,Speech', 'Dog,Speech', 'Speech', 'Electric_shaver_toothbrush,Speech,Vacuum_cleaner', 'Dog,Speech', 'Frying,Speech', 'Dog,Speech', 'Dog,Speech', 'Dog,Speech', 'Speech', 'Speech', 'Speech', 'Speech', 'Speech', 'Dog,Speech', 'Speech', 'Speech,Vacuum_cleaner', 'Dog,Running_water,Speech', 'Electric_shaver_toothbrush,Speech', 'Speech', 'Speech', 'Speech', 'Speech', 'Speech', 'Speech', 'Speech,Vacuum_cleaner', 'Dog,Speech', 'Speech', 'Dog,Speech', 'Dog,Speech', 'Speech', 'Frying,Running_water,Speech,Vacuum_cleaner', 'Dishes,Frying,Speech', 'Dog,Speech', 'Speech', 'Speech', 'Speech', 'Dog,Speech', 'Dog,Speech', 'Speech,Vacuum_cleaner', 'Speech', 'Running_water,Speech', 'Dog,Speech', 'Speech', 'Dog,Speech', 'Speech', 'Running_water,Speech', 'Dog,Speech', 'Speech,Vacuum_cleaner', 'Dog,Speech', 'Dog,Speech', 'Speech', 'Electric_shaver_toothbrush,Speech', 'Frying,Speech', 'Dog,Speech', 'Electric_shaver_toothbrush,Speech', 'Electric_shaver_toothbrush,Speech,Vacuum_cleaner', 'Speech', 'Dog,Running_water,Speech', 'Dog,Speech', 'Speech', 'Running_water,Speech', 'Electric_shaver_toothbrush,Speech', 'Speech', 'Speech,Vacuum_cleaner', 'Speech', 'Dog,Speech', 'Alarm_bell_ringing,Speech', 'Electric_shaver_toothbrush,Speech', 'Speech', 'Dishes,Frying,Speech', 'Dog,Speech', 'Speech', 'Speech', 'Speech', 'Speech', 'Speech', 'Blender,Speech,Vacuum_cleaner', 'Cat,Dog,Speech', 'Speech', 'Dog,Speech', 'Dog,Running_water', 'Speech', 'Speech', 'Dog,Speech', 'Dog,Running_water,Speech', 'Dishes,Frying,Speech', 'Electric_shaver_toothbrush,Speech', 'Speech', 'Dog,Running_water,Speech', 'Dog,Speech', 'Dog,Speech', 'Frying,Speech', 'Speech', 'Speech', 'Speech', 'Speech', 'Speech,Vacuum_cleaner', 'Dog,Speech', 'Electric_shaver_toothbrush,Speech', 'Speech', 'Speech', 'Electric_shaver_toothbrush,Speech,Vacuum_cleaner', 'Dishes,Running_water,Speech', 'Electric_shaver_toothbrush,Speech,Vacuum_cleaner', 'Dishes,Frying,Speech', 'Dog,Speech', 'Electric_shaver_toothbrush,Speech,Vacuum_cleaner', 'Speech,Vacuum_cleaner', 'Speech', 'Dishes,Speech', 'Speech', 'Dishes,Frying,Speech', 'Speech,Vacuum_cleaner', 'Speech,Vacuum_cleaner', 'Electric_shaver_toothbrush,Speech', 'Speech', 'Speech', 'Electric_shaver_toothbrush,Speech', 'Electric_shaver_toothbrush,Speech', 'Dog,Speech', 'Speech', 'Speech', 'Speech', 'Dog,Running_water', 'Speech,Vacuum_cleaner', 'Dog,Speech', 'Speech', 'Dishes,Speech', 'Dog,Speech', 'Speech', 'Speech', 'Electric_shaver_toothbrush,Speech', 'Dog,Speech', 'Frying,Speech', 'Speech,Vacuum_cleaner', 'Running_water,Speech', 'Dog,Speech', 'Speech', 'Electric_shaver_toothbrush,Speech', 'Dishes,Frying,Speech', 'Alarm_bell_ringing,Speech', 'Electric_shaver_toothbrush,Speech', 'Speech', 'Dog,Speech', 'Speech', 'Dog,Speech', 'Speech,Vacuum_cleaner', 'Electric_shaver_toothbrush,Speech', 'Speech,Vacuum_cleaner', 'Dog,Speech', 'Speech,Vacuum_cleaner', 'Electric_shaver_toothbrush,Speech', 'Dog,Running_water,Speech', 'Speech', 'Speech,Vacuum_cleaner', 'Speech', 'Dog,Running_water,Speech', 'Dog,Speech', 'Speech,Vacuum_cleaner', 'Speech', 'Speech', 'Speech', 'Dog,Speech', 'Speech', 'Speech', 'Dishes,Frying,Speech', 'Speech', 'Dog,Speech', 'Speech', 'Electric_shaver_toothbrush,Speech', 'Speech', 'Speech', 'Speech,Vacuum_cleaner', 'Dog,Speech', 'Speech', 'Speech', 'Speech', 'Dog,Running_water,Vacuum_cleaner', 'Running_water,Speech', 'Speech,Vacuum_cleaner', 'Speech,Vacuum_cleaner', 'Speech', 'Speech', 'Dog,Speech', 'Electric_shaver_toothbrush,Speech', 'Running_water,Speech', 'Speech,Vacuum_cleaner', 'Speech', 'Electric_shaver_toothbrush,Speech,Vacuum_cleaner', 'Speech', 'Dishes,Frying,Speech', 'Speech', 'Electric_shaver_toothbrush,Speech', 'Dog,Speech', 'Speech,Vacuum_cleaner', 'Speech,Vacuum_cleaner', 'Electric_shaver_toothbrush,Speech', 'Dog,Running_water,Speech', 'Speech', 'Speech', 'Dog,Running_water,Speech', 'Electric_shaver_toothbrush,Speech', 'Speech', 'Speech', 'Electric_shaver_toothbrush,Speech', 'Electric_shaver_toothbrush,Speech', 'Speech', 'Dog,Speech', 'Running_water,Speech,Vacuum_cleaner', 'Speech', 'Speech', 'Dog,Speech', 'Speech', 'Dishes,Frying,Speech', 'Speech', 'Running_water,Speech', 'Dog,Speech', 'Dog,Speech', 'Dog,Speech', 'Dishes,Frying,Speech', 'Dog,Speech', 'Speech', 'Frying,Speech', 'Speech,Vacuum_cleaner', 'Speech', 'Dog,Speech', 'Frying,Speech', 'Speech', 'Speech', 'Speech', 'Electric_shaver_toothbrush,Speech,Vacuum_cleaner', 'Speech', 'Speech', 'Dog,Speech', 'Dog,Speech', 'Dog,Speech', 'Speech', 'Speech', 'Speech', 'Running_water,Speech,Vacuum_cleaner', 'Speech', 'Dog,Frying,Running_water,Speech', 'Running_water,Speech,Vacuum_cleaner', 'Electric_shaver_toothbrush,Speech', 'Dishes,Frying,Speech', 'Speech', 'Frying,Speech', 'Speech', 'Speech,Vacuum_cleaner', 'Speech', 'Dishes,Frying,Running_water,Speech', 'Speech', 'Speech', 'Dog,Running_water,Speech', 'Speech,Vacuum_cleaner', 'Electric_shaver_toothbrush,Speech,Vacuum_cleaner']\n",
            "['melspec_0.npy', 'melspec_1.npy', 'melspec_10.npy', 'melspec_100.npy', 'melspec_1000.npy', 'melspec_1001.npy', 'melspec_1002.npy', 'melspec_1003.npy', 'melspec_1004.npy', 'melspec_1005.npy', 'melspec_1006.npy', 'melspec_1007.npy', 'melspec_1008.npy', 'melspec_1009.npy', 'melspec_101.npy', 'melspec_1010.npy', 'melspec_1011.npy', 'melspec_1012.npy', 'melspec_1013.npy', 'melspec_1014.npy', 'melspec_1015.npy', 'melspec_1016.npy', 'melspec_1017.npy', 'melspec_1018.npy', 'melspec_1019.npy', 'melspec_102.npy', 'melspec_1020.npy', 'melspec_1021.npy', 'melspec_1022.npy', 'melspec_1023.npy', 'melspec_1024.npy', 'melspec_1025.npy', 'melspec_1026.npy', 'melspec_1027.npy', 'melspec_1028.npy', 'melspec_1029.npy', 'melspec_103.npy', 'melspec_1030.npy', 'melspec_1031.npy', 'melspec_1032.npy', 'melspec_1033.npy', 'melspec_1034.npy', 'melspec_1035.npy', 'melspec_1036.npy', 'melspec_1037.npy', 'melspec_1038.npy', 'melspec_1039.npy', 'melspec_104.npy', 'melspec_1040.npy', 'melspec_1041.npy', 'melspec_1042.npy', 'melspec_1043.npy', 'melspec_1044.npy', 'melspec_1045.npy', 'melspec_1046.npy', 'melspec_1047.npy', 'melspec_1048.npy', 'melspec_1049.npy', 'melspec_105.npy', 'melspec_1050.npy', 'melspec_1051.npy', 'melspec_1052.npy', 'melspec_1053.npy', 'melspec_1054.npy', 'melspec_1055.npy', 'melspec_1056.npy', 'melspec_1057.npy', 'melspec_1058.npy', 'melspec_1059.npy', 'melspec_106.npy', 'melspec_1060.npy', 'melspec_1061.npy', 'melspec_1062.npy', 'melspec_1063.npy', 'melspec_1064.npy', 'melspec_1065.npy', 'melspec_1066.npy', 'melspec_1067.npy', 'melspec_1068.npy', 'melspec_1069.npy', 'melspec_107.npy', 'melspec_1070.npy', 'melspec_1071.npy', 'melspec_1072.npy', 'melspec_1073.npy', 'melspec_1074.npy', 'melspec_1075.npy', 'melspec_1076.npy', 'melspec_1077.npy', 'melspec_1078.npy', 'melspec_1079.npy', 'melspec_108.npy', 'melspec_1080.npy', 'melspec_1081.npy', 'melspec_1082.npy', 'melspec_1083.npy', 'melspec_1084.npy', 'melspec_1085.npy', 'melspec_1086.npy', 'melspec_1087.npy', 'melspec_1088.npy', 'melspec_1089.npy', 'melspec_109.npy', 'melspec_1090.npy', 'melspec_1091.npy', 'melspec_1092.npy', 'melspec_1093.npy', 'melspec_1094.npy', 'melspec_1095.npy', 'melspec_1096.npy', 'melspec_1097.npy', 'melspec_1098.npy', 'melspec_1099.npy', 'melspec_11.npy', 'melspec_110.npy', 'melspec_1100.npy', 'melspec_1101.npy', 'melspec_1102.npy', 'melspec_1103.npy', 'melspec_1104.npy', 'melspec_1105.npy', 'melspec_1106.npy', 'melspec_1107.npy', 'melspec_1108.npy', 'melspec_1109.npy', 'melspec_111.npy', 'melspec_1110.npy', 'melspec_1111.npy', 'melspec_1112.npy', 'melspec_1113.npy', 'melspec_1114.npy', 'melspec_1115.npy', 'melspec_1116.npy', 'melspec_1117.npy', 'melspec_1118.npy', 'melspec_1119.npy', 'melspec_112.npy', 'melspec_1120.npy', 'melspec_1121.npy', 'melspec_1122.npy', 'melspec_1123.npy', 'melspec_1124.npy', 'melspec_1125.npy', 'melspec_1126.npy', 'melspec_1127.npy', 'melspec_1128.npy', 'melspec_1129.npy', 'melspec_113.npy', 'melspec_1130.npy', 'melspec_1131.npy', 'melspec_1132.npy', 'melspec_1133.npy', 'melspec_1134.npy', 'melspec_1135.npy', 'melspec_1136.npy', 'melspec_1137.npy', 'melspec_1138.npy', 'melspec_1139.npy', 'melspec_114.npy', 'melspec_1140.npy', 'melspec_1141.npy', 'melspec_1142.npy', 'melspec_1143.npy', 'melspec_1144.npy', 'melspec_1145.npy', 'melspec_1146.npy', 'melspec_1147.npy', 'melspec_1148.npy', 'melspec_1149.npy', 'melspec_115.npy', 'melspec_1150.npy', 'melspec_1151.npy', 'melspec_1152.npy', 'melspec_1153.npy', 'melspec_1154.npy', 'melspec_1155.npy', 'melspec_1156.npy', 'melspec_1157.npy', 'melspec_1158.npy', 'melspec_1159.npy', 'melspec_116.npy', 'melspec_1160.npy', 'melspec_1161.npy', 'melspec_1162.npy', 'melspec_1163.npy', 'melspec_1164.npy', 'melspec_1165.npy', 'melspec_1166.npy', 'melspec_1167.npy', 'melspec_1168.npy', 'melspec_1169.npy', 'melspec_117.npy', 'melspec_1170.npy', 'melspec_1171.npy', 'melspec_1172.npy', 'melspec_1173.npy', 'melspec_1174.npy', 'melspec_1175.npy', 'melspec_1176.npy', 'melspec_1177.npy', 'melspec_1178.npy', 'melspec_1179.npy', 'melspec_118.npy', 'melspec_1180.npy', 'melspec_1181.npy', 'melspec_1182.npy', 'melspec_1183.npy', 'melspec_1184.npy', 'melspec_1185.npy', 'melspec_1186.npy', 'melspec_1187.npy', 'melspec_1188.npy', 'melspec_1189.npy', 'melspec_119.npy', 'melspec_1190.npy', 'melspec_1191.npy', 'melspec_1192.npy', 'melspec_1193.npy', 'melspec_1194.npy', 'melspec_1195.npy', 'melspec_1196.npy', 'melspec_1197.npy', 'melspec_1198.npy', 'melspec_1199.npy', 'melspec_12.npy', 'melspec_120.npy', 'melspec_1200.npy', 'melspec_1201.npy', 'melspec_1202.npy', 'melspec_1203.npy', 'melspec_1204.npy', 'melspec_1205.npy', 'melspec_1206.npy', 'melspec_1207.npy', 'melspec_1208.npy', 'melspec_1209.npy', 'melspec_121.npy', 'melspec_1210.npy', 'melspec_1211.npy', 'melspec_1212.npy', 'melspec_1213.npy', 'melspec_1214.npy', 'melspec_1215.npy', 'melspec_1216.npy', 'melspec_1217.npy', 'melspec_1218.npy', 'melspec_1219.npy', 'melspec_122.npy', 'melspec_1220.npy', 'melspec_1221.npy', 'melspec_1222.npy', 'melspec_1223.npy', 'melspec_1224.npy', 'melspec_1225.npy', 'melspec_1226.npy', 'melspec_1227.npy', 'melspec_1228.npy', 'melspec_1229.npy', 'melspec_123.npy', 'melspec_1230.npy', 'melspec_1231.npy', 'melspec_1232.npy', 'melspec_1233.npy', 'melspec_1234.npy', 'melspec_1235.npy', 'melspec_1236.npy', 'melspec_1237.npy', 'melspec_1238.npy', 'melspec_1239.npy', 'melspec_124.npy', 'melspec_1240.npy', 'melspec_1241.npy', 'melspec_1242.npy', 'melspec_1243.npy', 'melspec_1244.npy', 'melspec_1245.npy', 'melspec_1246.npy', 'melspec_1247.npy', 'melspec_1248.npy', 'melspec_1249.npy', 'melspec_125.npy', 'melspec_1250.npy', 'melspec_1251.npy', 'melspec_1252.npy', 'melspec_1253.npy', 'melspec_1254.npy', 'melspec_1255.npy', 'melspec_1256.npy', 'melspec_1257.npy', 'melspec_1258.npy', 'melspec_1259.npy', 'melspec_126.npy', 'melspec_1260.npy', 'melspec_1261.npy', 'melspec_1262.npy', 'melspec_1263.npy', 'melspec_1264.npy', 'melspec_1265.npy', 'melspec_1266.npy', 'melspec_1267.npy', 'melspec_1268.npy', 'melspec_1269.npy', 'melspec_127.npy', 'melspec_1270.npy', 'melspec_1271.npy', 'melspec_1272.npy', 'melspec_1273.npy', 'melspec_1274.npy', 'melspec_1275.npy', 'melspec_1276.npy', 'melspec_1277.npy', 'melspec_1278.npy', 'melspec_1279.npy', 'melspec_128.npy', 'melspec_1280.npy', 'melspec_1281.npy', 'melspec_1282.npy', 'melspec_1283.npy', 'melspec_1284.npy', 'melspec_1285.npy', 'melspec_1286.npy', 'melspec_1287.npy', 'melspec_1288.npy', 'melspec_1289.npy', 'melspec_129.npy', 'melspec_1290.npy', 'melspec_1291.npy', 'melspec_1292.npy', 'melspec_1293.npy', 'melspec_1294.npy', 'melspec_1295.npy', 'melspec_1296.npy', 'melspec_1297.npy', 'melspec_1298.npy', 'melspec_1299.npy', 'melspec_13.npy', 'melspec_130.npy', 'melspec_1300.npy', 'melspec_1301.npy', 'melspec_1302.npy', 'melspec_1303.npy', 'melspec_1304.npy', 'melspec_1305.npy', 'melspec_1306.npy', 'melspec_1307.npy', 'melspec_1308.npy', 'melspec_1309.npy', 'melspec_131.npy', 'melspec_1310.npy', 'melspec_1311.npy', 'melspec_1312.npy', 'melspec_1313.npy', 'melspec_1314.npy', 'melspec_1315.npy', 'melspec_1316.npy', 'melspec_1317.npy', 'melspec_1318.npy', 'melspec_1319.npy', 'melspec_132.npy', 'melspec_1320.npy', 'melspec_1321.npy', 'melspec_1322.npy', 'melspec_1323.npy', 'melspec_1324.npy', 'melspec_1325.npy', 'melspec_1326.npy', 'melspec_1327.npy', 'melspec_1328.npy', 'melspec_1329.npy', 'melspec_133.npy', 'melspec_1330.npy', 'melspec_1331.npy', 'melspec_1332.npy', 'melspec_1333.npy', 'melspec_1334.npy', 'melspec_1335.npy', 'melspec_1336.npy', 'melspec_1337.npy', 'melspec_1338.npy', 'melspec_1339.npy', 'melspec_134.npy', 'melspec_1340.npy', 'melspec_1341.npy', 'melspec_1342.npy', 'melspec_1343.npy', 'melspec_1344.npy', 'melspec_1345.npy', 'melspec_1346.npy', 'melspec_1347.npy', 'melspec_1348.npy', 'melspec_1349.npy', 'melspec_135.npy', 'melspec_1350.npy', 'melspec_1351.npy', 'melspec_1352.npy', 'melspec_1353.npy', 'melspec_1354.npy', 'melspec_1355.npy', 'melspec_1356.npy', 'melspec_1357.npy', 'melspec_1358.npy', 'melspec_1359.npy', 'melspec_136.npy', 'melspec_1360.npy', 'melspec_1361.npy', 'melspec_1362.npy', 'melspec_1363.npy', 'melspec_1364.npy', 'melspec_1365.npy', 'melspec_1366.npy', 'melspec_1367.npy', 'melspec_1368.npy', 'melspec_1369.npy', 'melspec_137.npy', 'melspec_1370.npy', 'melspec_1371.npy', 'melspec_1372.npy', 'melspec_1373.npy', 'melspec_1374.npy', 'melspec_1375.npy', 'melspec_1376.npy', 'melspec_1377.npy', 'melspec_1378.npy', 'melspec_1379.npy', 'melspec_138.npy', 'melspec_1380.npy', 'melspec_1381.npy', 'melspec_1382.npy', 'melspec_1383.npy', 'melspec_1384.npy', 'melspec_1385.npy', 'melspec_1386.npy', 'melspec_1387.npy', 'melspec_1388.npy', 'melspec_1389.npy', 'melspec_139.npy', 'melspec_1390.npy', 'melspec_1391.npy', 'melspec_1392.npy', 'melspec_1393.npy', 'melspec_1394.npy', 'melspec_1395.npy', 'melspec_1396.npy', 'melspec_1397.npy', 'melspec_1398.npy', 'melspec_1399.npy', 'melspec_14.npy', 'melspec_140.npy', 'melspec_1400.npy', 'melspec_1401.npy', 'melspec_1402.npy', 'melspec_1403.npy', 'melspec_1404.npy', 'melspec_1405.npy', 'melspec_1406.npy', 'melspec_1407.npy', 'melspec_1408.npy', 'melspec_1409.npy', 'melspec_141.npy', 'melspec_1410.npy', 'melspec_1411.npy', 'melspec_1412.npy', 'melspec_1413.npy', 'melspec_1414.npy', 'melspec_1415.npy', 'melspec_1416.npy', 'melspec_1417.npy', 'melspec_1418.npy', 'melspec_1419.npy', 'melspec_142.npy', 'melspec_1420.npy', 'melspec_1421.npy', 'melspec_1422.npy', 'melspec_1423.npy', 'melspec_1424.npy', 'melspec_1425.npy', 'melspec_1426.npy', 'melspec_1427.npy', 'melspec_1428.npy', 'melspec_1429.npy', 'melspec_143.npy', 'melspec_1430.npy', 'melspec_1431.npy', 'melspec_1432.npy', 'melspec_1433.npy', 'melspec_1434.npy', 'melspec_1435.npy', 'melspec_1436.npy', 'melspec_1437.npy', 'melspec_1438.npy', 'melspec_1439.npy', 'melspec_144.npy', 'melspec_1440.npy', 'melspec_1441.npy', 'melspec_1442.npy', 'melspec_1443.npy', 'melspec_1444.npy', 'melspec_1445.npy', 'melspec_1446.npy', 'melspec_1447.npy', 'melspec_1448.npy', 'melspec_1449.npy', 'melspec_145.npy', 'melspec_1450.npy', 'melspec_1451.npy', 'melspec_1452.npy', 'melspec_1453.npy', 'melspec_1454.npy', 'melspec_1455.npy', 'melspec_1456.npy', 'melspec_1457.npy', 'melspec_1458.npy', 'melspec_1459.npy', 'melspec_146.npy', 'melspec_1460.npy', 'melspec_1461.npy', 'melspec_1462.npy', 'melspec_1463.npy', 'melspec_1464.npy', 'melspec_1465.npy', 'melspec_1466.npy', 'melspec_1467.npy', 'melspec_1468.npy', 'melspec_1469.npy', 'melspec_147.npy', 'melspec_1470.npy', 'melspec_1471.npy', 'melspec_1472.npy', 'melspec_1473.npy', 'melspec_1474.npy', 'melspec_1475.npy', 'melspec_1476.npy', 'melspec_1477.npy', 'melspec_1478.npy', 'melspec_1479.npy', 'melspec_148.npy', 'melspec_1480.npy', 'melspec_1481.npy', 'melspec_1482.npy', 'melspec_1483.npy', 'melspec_1484.npy', 'melspec_1485.npy', 'melspec_1486.npy', 'melspec_1487.npy', 'melspec_1488.npy', 'melspec_1489.npy', 'melspec_149.npy', 'melspec_1490.npy', 'melspec_1491.npy', 'melspec_1492.npy', 'melspec_1493.npy', 'melspec_1494.npy', 'melspec_1495.npy', 'melspec_1496.npy', 'melspec_1497.npy', 'melspec_1498.npy', 'melspec_1499.npy', 'melspec_15.npy', 'melspec_150.npy', 'melspec_1500.npy', 'melspec_1501.npy', 'melspec_1502.npy', 'melspec_1503.npy', 'melspec_1504.npy', 'melspec_1505.npy', 'melspec_1506.npy', 'melspec_1507.npy', 'melspec_1508.npy', 'melspec_1509.npy', 'melspec_151.npy', 'melspec_1510.npy', 'melspec_1511.npy', 'melspec_1512.npy', 'melspec_1513.npy', 'melspec_1514.npy', 'melspec_1515.npy', 'melspec_1516.npy', 'melspec_1517.npy', 'melspec_1518.npy', 'melspec_1519.npy', 'melspec_152.npy', 'melspec_1520.npy', 'melspec_1521.npy', 'melspec_1522.npy', 'melspec_1523.npy', 'melspec_1524.npy', 'melspec_1525.npy', 'melspec_1526.npy', 'melspec_1527.npy', 'melspec_1528.npy', 'melspec_1529.npy', 'melspec_153.npy', 'melspec_1530.npy', 'melspec_1531.npy', 'melspec_1532.npy', 'melspec_1533.npy', 'melspec_1534.npy', 'melspec_1535.npy', 'melspec_1536.npy', 'melspec_1537.npy', 'melspec_1538.npy', 'melspec_1539.npy', 'melspec_154.npy', 'melspec_1540.npy', 'melspec_1541.npy', 'melspec_1542.npy', 'melspec_1543.npy', 'melspec_1544.npy', 'melspec_1545.npy', 'melspec_1546.npy', 'melspec_1547.npy', 'melspec_1548.npy', 'melspec_1549.npy', 'melspec_155.npy', 'melspec_1550.npy', 'melspec_1551.npy', 'melspec_1552.npy', 'melspec_1553.npy', 'melspec_1554.npy', 'melspec_1555.npy', 'melspec_1556.npy', 'melspec_1557.npy', 'melspec_1558.npy', 'melspec_1559.npy', 'melspec_156.npy', 'melspec_1560.npy', 'melspec_1561.npy', 'melspec_1562.npy', 'melspec_1563.npy', 'melspec_1564.npy', 'melspec_1565.npy', 'melspec_1566.npy', 'melspec_1567.npy', 'melspec_1568.npy', 'melspec_1569.npy', 'melspec_157.npy', 'melspec_1570.npy', 'melspec_1571.npy', 'melspec_1572.npy', 'melspec_1573.npy', 'melspec_1574.npy', 'melspec_1575.npy', 'melspec_1576.npy', 'melspec_1577.npy', 'melspec_1578.npy', 'melspec_1579.npy', 'melspec_158.npy', 'melspec_1580.npy', 'melspec_1581.npy', 'melspec_1582.npy', 'melspec_1583.npy', 'melspec_1584.npy', 'melspec_1585.npy', 'melspec_1586.npy', 'melspec_1587.npy', 'melspec_1588.npy', 'melspec_1589.npy', 'melspec_159.npy', 'melspec_1590.npy', 'melspec_1591.npy', 'melspec_1592.npy', 'melspec_1593.npy', 'melspec_1594.npy', 'melspec_1595.npy', 'melspec_1596.npy', 'melspec_1597.npy', 'melspec_1598.npy', 'melspec_1599.npy', 'melspec_16.npy', 'melspec_160.npy', 'melspec_1600.npy', 'melspec_1601.npy', 'melspec_1602.npy', 'melspec_1603.npy', 'melspec_1604.npy', 'melspec_1605.npy', 'melspec_1606.npy', 'melspec_1607.npy', 'melspec_1608.npy', 'melspec_1609.npy', 'melspec_161.npy', 'melspec_1610.npy', 'melspec_1611.npy', 'melspec_1612.npy', 'melspec_1613.npy', 'melspec_1614.npy', 'melspec_1615.npy', 'melspec_1616.npy', 'melspec_1617.npy', 'melspec_1618.npy', 'melspec_1619.npy', 'melspec_162.npy', 'melspec_1620.npy', 'melspec_1621.npy', 'melspec_1622.npy', 'melspec_1623.npy', 'melspec_1624.npy', 'melspec_1625.npy', 'melspec_1626.npy', 'melspec_1627.npy', 'melspec_1628.npy', 'melspec_1629.npy', 'melspec_163.npy', 'melspec_1630.npy', 'melspec_1631.npy', 'melspec_1632.npy', 'melspec_1633.npy', 'melspec_1634.npy', 'melspec_1635.npy', 'melspec_1636.npy', 'melspec_1637.npy', 'melspec_1638.npy', 'melspec_1639.npy', 'melspec_164.npy', 'melspec_1640.npy', 'melspec_1641.npy', 'melspec_1642.npy', 'melspec_1643.npy', 'melspec_1644.npy', 'melspec_1645.npy', 'melspec_1646.npy', 'melspec_1647.npy', 'melspec_1648.npy', 'melspec_1649.npy', 'melspec_165.npy', 'melspec_1650.npy', 'melspec_1651.npy', 'melspec_1652.npy', 'melspec_1653.npy', 'melspec_1654.npy', 'melspec_1655.npy', 'melspec_1656.npy', 'melspec_1657.npy', 'melspec_1658.npy', 'melspec_1659.npy', 'melspec_166.npy', 'melspec_1660.npy', 'melspec_1661.npy', 'melspec_1662.npy', 'melspec_1663.npy', 'melspec_1664.npy', 'melspec_1665.npy', 'melspec_1666.npy', 'melspec_1667.npy', 'melspec_1668.npy', 'melspec_1669.npy', 'melspec_167.npy', 'melspec_1670.npy', 'melspec_1671.npy', 'melspec_1672.npy', 'melspec_1673.npy', 'melspec_1674.npy', 'melspec_1675.npy', 'melspec_1676.npy', 'melspec_1677.npy', 'melspec_1678.npy', 'melspec_1679.npy', 'melspec_168.npy', 'melspec_1680.npy', 'melspec_1681.npy', 'melspec_1682.npy', 'melspec_1683.npy', 'melspec_1684.npy', 'melspec_1685.npy', 'melspec_1686.npy', 'melspec_1687.npy', 'melspec_1688.npy', 'melspec_1689.npy', 'melspec_169.npy', 'melspec_1690.npy', 'melspec_1691.npy', 'melspec_1692.npy', 'melspec_1693.npy', 'melspec_1694.npy', 'melspec_1695.npy', 'melspec_1696.npy', 'melspec_1697.npy', 'melspec_1698.npy', 'melspec_1699.npy', 'melspec_17.npy', 'melspec_170.npy', 'melspec_1700.npy', 'melspec_1701.npy', 'melspec_1702.npy', 'melspec_1703.npy', 'melspec_1704.npy', 'melspec_1705.npy', 'melspec_1706.npy', 'melspec_1707.npy', 'melspec_1708.npy', 'melspec_1709.npy', 'melspec_171.npy', 'melspec_1710.npy', 'melspec_1711.npy', 'melspec_1712.npy', 'melspec_1713.npy', 'melspec_1714.npy', 'melspec_1715.npy', 'melspec_1716.npy', 'melspec_1717.npy', 'melspec_1718.npy', 'melspec_1719.npy', 'melspec_172.npy', 'melspec_1720.npy', 'melspec_1721.npy', 'melspec_1722.npy', 'melspec_1723.npy', 'melspec_1724.npy', 'melspec_1725.npy', 'melspec_1726.npy', 'melspec_1727.npy', 'melspec_1728.npy', 'melspec_1729.npy', 'melspec_173.npy', 'melspec_1730.npy', 'melspec_1731.npy', 'melspec_1732.npy', 'melspec_1733.npy', 'melspec_1734.npy', 'melspec_1735.npy', 'melspec_1736.npy', 'melspec_1737.npy', 'melspec_1738.npy', 'melspec_1739.npy', 'melspec_174.npy', 'melspec_1740.npy', 'melspec_1741.npy', 'melspec_1742.npy', 'melspec_1743.npy', 'melspec_1744.npy', 'melspec_1745.npy', 'melspec_1746.npy', 'melspec_1747.npy', 'melspec_1748.npy', 'melspec_1749.npy', 'melspec_175.npy', 'melspec_1750.npy', 'melspec_1751.npy', 'melspec_1752.npy', 'melspec_1753.npy', 'melspec_1754.npy', 'melspec_1755.npy', 'melspec_1756.npy', 'melspec_1757.npy', 'melspec_1758.npy', 'melspec_1759.npy', 'melspec_176.npy', 'melspec_1760.npy', 'melspec_1761.npy', 'melspec_1762.npy', 'melspec_1763.npy', 'melspec_1764.npy', 'melspec_1765.npy', 'melspec_1766.npy', 'melspec_1767.npy', 'melspec_1768.npy', 'melspec_1769.npy', 'melspec_177.npy', 'melspec_1770.npy', 'melspec_1771.npy', 'melspec_1772.npy', 'melspec_1773.npy', 'melspec_1774.npy', 'melspec_1775.npy', 'melspec_1776.npy', 'melspec_1777.npy', 'melspec_1778.npy', 'melspec_1779.npy', 'melspec_178.npy', 'melspec_1780.npy', 'melspec_1781.npy', 'melspec_1782.npy', 'melspec_1783.npy', 'melspec_1784.npy', 'melspec_1785.npy', 'melspec_1786.npy', 'melspec_1787.npy', 'melspec_1788.npy', 'melspec_1789.npy', 'melspec_179.npy', 'melspec_1790.npy', 'melspec_1791.npy', 'melspec_1792.npy', 'melspec_1793.npy', 'melspec_1794.npy', 'melspec_1795.npy', 'melspec_1796.npy', 'melspec_1797.npy', 'melspec_1798.npy', 'melspec_1799.npy', 'melspec_18.npy', 'melspec_180.npy', 'melspec_1800.npy', 'melspec_1801.npy', 'melspec_1802.npy', 'melspec_1803.npy', 'melspec_1804.npy', 'melspec_1805.npy', 'melspec_1806.npy', 'melspec_1807.npy', 'melspec_1808.npy', 'melspec_1809.npy', 'melspec_181.npy', 'melspec_1810.npy', 'melspec_1811.npy', 'melspec_1812.npy', 'melspec_1813.npy', 'melspec_1814.npy', 'melspec_1815.npy', 'melspec_1816.npy', 'melspec_1817.npy', 'melspec_1818.npy', 'melspec_1819.npy', 'melspec_182.npy', 'melspec_1820.npy', 'melspec_1821.npy', 'melspec_1822.npy', 'melspec_1823.npy', 'melspec_1824.npy', 'melspec_1825.npy', 'melspec_1826.npy', 'melspec_1827.npy', 'melspec_1828.npy', 'melspec_1829.npy', 'melspec_183.npy', 'melspec_1830.npy', 'melspec_1831.npy', 'melspec_1832.npy', 'melspec_1833.npy', 'melspec_1834.npy', 'melspec_1835.npy', 'melspec_1836.npy', 'melspec_1837.npy', 'melspec_1838.npy', 'melspec_1839.npy', 'melspec_184.npy', 'melspec_1840.npy', 'melspec_1841.npy', 'melspec_1842.npy', 'melspec_1843.npy', 'melspec_1844.npy', 'melspec_1845.npy', 'melspec_1846.npy', 'melspec_1847.npy', 'melspec_1848.npy', 'melspec_1849.npy', 'melspec_185.npy', 'melspec_1850.npy', 'melspec_1851.npy', 'melspec_1852.npy', 'melspec_1853.npy', 'melspec_1854.npy', 'melspec_1855.npy', 'melspec_1856.npy', 'melspec_1857.npy', 'melspec_1858.npy', 'melspec_1859.npy', 'melspec_186.npy', 'melspec_1860.npy', 'melspec_1861.npy', 'melspec_1862.npy', 'melspec_1863.npy', 'melspec_1864.npy', 'melspec_1865.npy', 'melspec_1866.npy', 'melspec_1867.npy', 'melspec_1868.npy', 'melspec_1869.npy', 'melspec_187.npy', 'melspec_1870.npy', 'melspec_1871.npy', 'melspec_1872.npy', 'melspec_1873.npy', 'melspec_1874.npy', 'melspec_1875.npy', 'melspec_1876.npy', 'melspec_1877.npy', 'melspec_1878.npy', 'melspec_1879.npy', 'melspec_188.npy', 'melspec_1880.npy', 'melspec_1881.npy', 'melspec_1882.npy', 'melspec_1883.npy', 'melspec_1884.npy', 'melspec_1885.npy', 'melspec_1886.npy', 'melspec_1887.npy', 'melspec_1888.npy', 'melspec_1889.npy', 'melspec_189.npy', 'melspec_1890.npy', 'melspec_1891.npy', 'melspec_1892.npy', 'melspec_1893.npy', 'melspec_1894.npy', 'melspec_1895.npy', 'melspec_1896.npy', 'melspec_1897.npy', 'melspec_1898.npy', 'melspec_1899.npy', 'melspec_19.npy', 'melspec_190.npy', 'melspec_1900.npy', 'melspec_1901.npy', 'melspec_1902.npy', 'melspec_1903.npy', 'melspec_1904.npy', 'melspec_1905.npy', 'melspec_1906.npy', 'melspec_1907.npy', 'melspec_1908.npy', 'melspec_1909.npy', 'melspec_191.npy', 'melspec_1910.npy', 'melspec_1911.npy', 'melspec_1912.npy', 'melspec_1913.npy', 'melspec_1914.npy', 'melspec_1915.npy', 'melspec_1916.npy', 'melspec_1917.npy', 'melspec_1918.npy', 'melspec_1919.npy', 'melspec_192.npy', 'melspec_1920.npy', 'melspec_1921.npy', 'melspec_1922.npy', 'melspec_1923.npy', 'melspec_1924.npy', 'melspec_1925.npy', 'melspec_1926.npy', 'melspec_1927.npy', 'melspec_1928.npy', 'melspec_1929.npy', 'melspec_193.npy', 'melspec_1930.npy', 'melspec_1931.npy', 'melspec_1932.npy', 'melspec_1933.npy', 'melspec_1934.npy', 'melspec_1935.npy', 'melspec_1936.npy', 'melspec_1937.npy', 'melspec_1938.npy', 'melspec_1939.npy', 'melspec_194.npy', 'melspec_1940.npy', 'melspec_1941.npy', 'melspec_1942.npy', 'melspec_1943.npy', 'melspec_1944.npy', 'melspec_1945.npy', 'melspec_1946.npy', 'melspec_1947.npy', 'melspec_1948.npy', 'melspec_1949.npy', 'melspec_195.npy', 'melspec_1950.npy', 'melspec_1951.npy', 'melspec_1952.npy', 'melspec_1953.npy', 'melspec_1954.npy', 'melspec_1955.npy', 'melspec_1956.npy', 'melspec_1957.npy', 'melspec_1958.npy', 'melspec_1959.npy', 'melspec_196.npy', 'melspec_1960.npy', 'melspec_1961.npy', 'melspec_1962.npy', 'melspec_1963.npy', 'melspec_1964.npy', 'melspec_1965.npy', 'melspec_1966.npy', 'melspec_1967.npy', 'melspec_1968.npy', 'melspec_1969.npy', 'melspec_197.npy', 'melspec_1970.npy', 'melspec_1971.npy', 'melspec_1972.npy', 'melspec_1973.npy', 'melspec_1974.npy', 'melspec_1975.npy', 'melspec_1976.npy', 'melspec_1977.npy', 'melspec_1978.npy', 'melspec_1979.npy', 'melspec_198.npy', 'melspec_1980.npy', 'melspec_1981.npy', 'melspec_1982.npy', 'melspec_1983.npy', 'melspec_1984.npy', 'melspec_1985.npy', 'melspec_1986.npy', 'melspec_1987.npy', 'melspec_1988.npy', 'melspec_1989.npy', 'melspec_199.npy', 'melspec_1990.npy', 'melspec_1991.npy', 'melspec_1992.npy', 'melspec_1993.npy', 'melspec_1994.npy', 'melspec_1995.npy', 'melspec_1996.npy', 'melspec_1997.npy', 'melspec_1998.npy', 'melspec_1999.npy', 'melspec_2.npy', 'melspec_20.npy', 'melspec_200.npy', 'melspec_2000.npy', 'melspec_2001.npy', 'melspec_2002.npy', 'melspec_2003.npy', 'melspec_2004.npy', 'melspec_2005.npy', 'melspec_2006.npy', 'melspec_2007.npy', 'melspec_2008.npy', 'melspec_2009.npy', 'melspec_201.npy', 'melspec_2010.npy', 'melspec_2011.npy', 'melspec_2012.npy', 'melspec_2013.npy', 'melspec_2014.npy', 'melspec_2015.npy', 'melspec_2016.npy', 'melspec_2017.npy', 'melspec_2018.npy', 'melspec_2019.npy', 'melspec_202.npy', 'melspec_2020.npy', 'melspec_2021.npy', 'melspec_2022.npy', 'melspec_2023.npy', 'melspec_2024.npy', 'melspec_2025.npy', 'melspec_2026.npy', 'melspec_2027.npy', 'melspec_2028.npy', 'melspec_2029.npy', 'melspec_203.npy', 'melspec_2030.npy', 'melspec_2031.npy', 'melspec_2032.npy', 'melspec_2033.npy', 'melspec_2034.npy', 'melspec_2035.npy', 'melspec_2036.npy', 'melspec_2037.npy', 'melspec_2038.npy', 'melspec_2039.npy', 'melspec_204.npy', 'melspec_2040.npy', 'melspec_2041.npy', 'melspec_2042.npy', 'melspec_2043.npy', 'melspec_2044.npy', 'melspec_2045.npy', 'melspec_2046.npy', 'melspec_2047.npy', 'melspec_2048.npy', 'melspec_2049.npy', 'melspec_205.npy', 'melspec_2050.npy', 'melspec_2051.npy', 'melspec_2052.npy', 'melspec_2053.npy', 'melspec_2054.npy', 'melspec_2055.npy', 'melspec_2056.npy', 'melspec_2057.npy', 'melspec_2058.npy', 'melspec_2059.npy', 'melspec_206.npy', 'melspec_2060.npy', 'melspec_2061.npy', 'melspec_2062.npy', 'melspec_2063.npy', 'melspec_2064.npy', 'melspec_2065.npy', 'melspec_2066.npy', 'melspec_2067.npy', 'melspec_2068.npy', 'melspec_2069.npy', 'melspec_207.npy', 'melspec_2070.npy', 'melspec_2071.npy', 'melspec_2072.npy', 'melspec_2073.npy', 'melspec_2074.npy', 'melspec_2075.npy', 'melspec_2076.npy', 'melspec_2077.npy', 'melspec_2078.npy', 'melspec_2079.npy', 'melspec_208.npy', 'melspec_2080.npy', 'melspec_2081.npy', 'melspec_2082.npy', 'melspec_2083.npy', 'melspec_2084.npy', 'melspec_2085.npy', 'melspec_2086.npy', 'melspec_2087.npy', 'melspec_2088.npy', 'melspec_2089.npy', 'melspec_209.npy', 'melspec_2090.npy', 'melspec_2091.npy', 'melspec_2092.npy', 'melspec_2093.npy', 'melspec_2094.npy', 'melspec_2095.npy', 'melspec_2096.npy', 'melspec_2097.npy', 'melspec_2098.npy', 'melspec_2099.npy', 'melspec_21.npy', 'melspec_210.npy', 'melspec_2100.npy', 'melspec_2101.npy', 'melspec_2102.npy', 'melspec_2103.npy', 'melspec_2104.npy', 'melspec_2105.npy', 'melspec_2106.npy', 'melspec_2107.npy', 'melspec_2108.npy', 'melspec_2109.npy', 'melspec_211.npy', 'melspec_2110.npy', 'melspec_2111.npy', 'melspec_2112.npy', 'melspec_2113.npy', 'melspec_2114.npy', 'melspec_2115.npy', 'melspec_2116.npy', 'melspec_2117.npy', 'melspec_2118.npy', 'melspec_2119.npy', 'melspec_212.npy', 'melspec_2120.npy', 'melspec_2121.npy', 'melspec_2122.npy', 'melspec_2123.npy', 'melspec_2124.npy', 'melspec_2125.npy', 'melspec_2126.npy', 'melspec_2127.npy', 'melspec_2128.npy', 'melspec_2129.npy', 'melspec_213.npy', 'melspec_2130.npy', 'melspec_2131.npy', 'melspec_2132.npy', 'melspec_2133.npy', 'melspec_2134.npy', 'melspec_2135.npy', 'melspec_2136.npy', 'melspec_2137.npy', 'melspec_2138.npy', 'melspec_2139.npy', 'melspec_214.npy', 'melspec_2140.npy', 'melspec_2141.npy', 'melspec_2142.npy', 'melspec_2143.npy', 'melspec_2144.npy', 'melspec_2145.npy', 'melspec_2146.npy', 'melspec_2147.npy', 'melspec_2148.npy', 'melspec_2149.npy', 'melspec_215.npy', 'melspec_2150.npy', 'melspec_2151.npy', 'melspec_2152.npy', 'melspec_2153.npy', 'melspec_2154.npy', 'melspec_2155.npy', 'melspec_2156.npy', 'melspec_2157.npy', 'melspec_2158.npy', 'melspec_2159.npy', 'melspec_216.npy', 'melspec_2160.npy', 'melspec_2161.npy', 'melspec_2162.npy', 'melspec_2163.npy', 'melspec_2164.npy', 'melspec_2165.npy', 'melspec_2166.npy', 'melspec_2167.npy', 'melspec_2168.npy', 'melspec_2169.npy', 'melspec_217.npy', 'melspec_2170.npy', 'melspec_2171.npy', 'melspec_2172.npy', 'melspec_2173.npy', 'melspec_2174.npy', 'melspec_2175.npy', 'melspec_2176.npy', 'melspec_2177.npy', 'melspec_2178.npy', 'melspec_2179.npy', 'melspec_218.npy', 'melspec_2180.npy', 'melspec_2181.npy', 'melspec_2182.npy', 'melspec_2183.npy', 'melspec_2184.npy', 'melspec_2185.npy', 'melspec_2186.npy', 'melspec_2187.npy', 'melspec_2188.npy', 'melspec_2189.npy', 'melspec_219.npy', 'melspec_2190.npy', 'melspec_2191.npy', 'melspec_2192.npy', 'melspec_2193.npy', 'melspec_2194.npy', 'melspec_2195.npy', 'melspec_2196.npy', 'melspec_2197.npy', 'melspec_2198.npy', 'melspec_2199.npy', 'melspec_22.npy', 'melspec_220.npy', 'melspec_2200.npy', 'melspec_2201.npy', 'melspec_2202.npy', 'melspec_2203.npy', 'melspec_2204.npy', 'melspec_2205.npy', 'melspec_2206.npy', 'melspec_2207.npy', 'melspec_2208.npy', 'melspec_2209.npy', 'melspec_221.npy', 'melspec_2210.npy', 'melspec_2211.npy', 'melspec_2212.npy', 'melspec_2213.npy', 'melspec_2214.npy', 'melspec_2215.npy', 'melspec_2216.npy', 'melspec_2217.npy', 'melspec_2218.npy', 'melspec_2219.npy', 'melspec_222.npy', 'melspec_2220.npy', 'melspec_2221.npy', 'melspec_2222.npy', 'melspec_2223.npy', 'melspec_2224.npy', 'melspec_2225.npy', 'melspec_2226.npy', 'melspec_2227.npy', 'melspec_2228.npy', 'melspec_2229.npy', 'melspec_223.npy', 'melspec_2230.npy', 'melspec_2231.npy', 'melspec_2232.npy', 'melspec_2233.npy', 'melspec_2234.npy', 'melspec_2235.npy', 'melspec_2236.npy', 'melspec_2237.npy', 'melspec_2238.npy', 'melspec_2239.npy', 'melspec_224.npy', 'melspec_2240.npy', 'melspec_2241.npy', 'melspec_2242.npy', 'melspec_2243.npy', 'melspec_2244.npy', 'melspec_2245.npy', 'melspec_2246.npy', 'melspec_2247.npy', 'melspec_2248.npy', 'melspec_2249.npy', 'melspec_225.npy', 'melspec_2250.npy', 'melspec_2251.npy', 'melspec_2252.npy', 'melspec_2253.npy', 'melspec_2254.npy', 'melspec_2255.npy', 'melspec_2256.npy', 'melspec_2257.npy', 'melspec_2258.npy', 'melspec_2259.npy', 'melspec_226.npy', 'melspec_2260.npy', 'melspec_2261.npy', 'melspec_2262.npy', 'melspec_2263.npy', 'melspec_2264.npy', 'melspec_2265.npy', 'melspec_2266.npy', 'melspec_2267.npy', 'melspec_2268.npy', 'melspec_2269.npy', 'melspec_227.npy', 'melspec_2270.npy', 'melspec_2271.npy', 'melspec_2272.npy', 'melspec_2273.npy', 'melspec_2274.npy', 'melspec_2275.npy', 'melspec_2276.npy', 'melspec_2277.npy', 'melspec_2278.npy', 'melspec_2279.npy', 'melspec_228.npy', 'melspec_2280.npy', 'melspec_2281.npy', 'melspec_2282.npy', 'melspec_2283.npy', 'melspec_2284.npy', 'melspec_2285.npy', 'melspec_2286.npy', 'melspec_2287.npy', 'melspec_2288.npy', 'melspec_2289.npy', 'melspec_229.npy', 'melspec_2290.npy', 'melspec_2291.npy', 'melspec_2292.npy', 'melspec_2293.npy', 'melspec_2294.npy', 'melspec_2295.npy', 'melspec_2296.npy', 'melspec_2297.npy', 'melspec_2298.npy', 'melspec_2299.npy', 'melspec_23.npy', 'melspec_230.npy', 'melspec_2300.npy', 'melspec_2301.npy', 'melspec_2302.npy', 'melspec_2303.npy', 'melspec_2304.npy', 'melspec_2305.npy', 'melspec_2306.npy', 'melspec_2307.npy', 'melspec_2308.npy', 'melspec_2309.npy', 'melspec_231.npy', 'melspec_2310.npy', 'melspec_2311.npy', 'melspec_2312.npy', 'melspec_2313.npy', 'melspec_2314.npy', 'melspec_2315.npy', 'melspec_2316.npy', 'melspec_2317.npy', 'melspec_2318.npy', 'melspec_2319.npy', 'melspec_232.npy', 'melspec_2320.npy', 'melspec_2321.npy', 'melspec_2322.npy', 'melspec_2323.npy', 'melspec_2324.npy', 'melspec_2325.npy', 'melspec_2326.npy', 'melspec_2327.npy', 'melspec_2328.npy', 'melspec_2329.npy', 'melspec_233.npy', 'melspec_2330.npy', 'melspec_2331.npy', 'melspec_2332.npy', 'melspec_2333.npy', 'melspec_2334.npy', 'melspec_2335.npy', 'melspec_2336.npy', 'melspec_2337.npy', 'melspec_2338.npy', 'melspec_2339.npy', 'melspec_234.npy', 'melspec_2340.npy', 'melspec_2341.npy', 'melspec_2342.npy', 'melspec_2343.npy', 'melspec_2344.npy', 'melspec_2345.npy', 'melspec_2346.npy', 'melspec_2347.npy', 'melspec_2348.npy', 'melspec_2349.npy', 'melspec_235.npy', 'melspec_2350.npy', 'melspec_2351.npy', 'melspec_2352.npy', 'melspec_2353.npy', 'melspec_2354.npy', 'melspec_2355.npy', 'melspec_2356.npy', 'melspec_2357.npy', 'melspec_2358.npy', 'melspec_2359.npy', 'melspec_236.npy', 'melspec_2360.npy', 'melspec_2361.npy', 'melspec_2362.npy', 'melspec_2363.npy', 'melspec_2364.npy', 'melspec_2365.npy', 'melspec_2366.npy', 'melspec_2367.npy', 'melspec_2368.npy', 'melspec_2369.npy', 'melspec_237.npy', 'melspec_2370.npy', 'melspec_2371.npy', 'melspec_2372.npy', 'melspec_2373.npy', 'melspec_2374.npy', 'melspec_2375.npy', 'melspec_2376.npy', 'melspec_2377.npy', 'melspec_2378.npy', 'melspec_2379.npy', 'melspec_238.npy', 'melspec_2380.npy', 'melspec_2381.npy', 'melspec_2382.npy', 'melspec_2383.npy', 'melspec_2384.npy', 'melspec_2385.npy', 'melspec_2386.npy', 'melspec_2387.npy', 'melspec_2388.npy', 'melspec_2389.npy', 'melspec_239.npy', 'melspec_2390.npy', 'melspec_2391.npy', 'melspec_2392.npy', 'melspec_2393.npy', 'melspec_2394.npy', 'melspec_2395.npy', 'melspec_2396.npy', 'melspec_2397.npy', 'melspec_2398.npy', 'melspec_2399.npy', 'melspec_24.npy', 'melspec_240.npy', 'melspec_2400.npy', 'melspec_2401.npy', 'melspec_2402.npy', 'melspec_2403.npy', 'melspec_2404.npy', 'melspec_2405.npy', 'melspec_2406.npy', 'melspec_2407.npy', 'melspec_2408.npy', 'melspec_2409.npy', 'melspec_241.npy', 'melspec_2410.npy', 'melspec_2411.npy', 'melspec_2412.npy', 'melspec_2413.npy', 'melspec_2414.npy', 'melspec_2415.npy', 'melspec_2416.npy', 'melspec_2417.npy', 'melspec_2418.npy', 'melspec_2419.npy', 'melspec_242.npy', 'melspec_2420.npy', 'melspec_2421.npy', 'melspec_2422.npy', 'melspec_2423.npy', 'melspec_2424.npy', 'melspec_2425.npy', 'melspec_2426.npy', 'melspec_2427.npy', 'melspec_2428.npy', 'melspec_2429.npy', 'melspec_243.npy', 'melspec_2430.npy', 'melspec_2431.npy', 'melspec_2432.npy', 'melspec_2433.npy', 'melspec_2434.npy', 'melspec_2435.npy', 'melspec_2436.npy', 'melspec_2437.npy', 'melspec_2438.npy', 'melspec_2439.npy', 'melspec_244.npy', 'melspec_2440.npy', 'melspec_2441.npy', 'melspec_2442.npy', 'melspec_2443.npy', 'melspec_2444.npy', 'melspec_2445.npy', 'melspec_2446.npy', 'melspec_2447.npy', 'melspec_2448.npy', 'melspec_2449.npy', 'melspec_245.npy', 'melspec_2450.npy', 'melspec_2451.npy', 'melspec_2452.npy', 'melspec_2453.npy', 'melspec_2454.npy', 'melspec_2455.npy', 'melspec_2456.npy', 'melspec_2457.npy', 'melspec_2458.npy', 'melspec_2459.npy', 'melspec_246.npy', 'melspec_2460.npy', 'melspec_2461.npy', 'melspec_2462.npy', 'melspec_2463.npy', 'melspec_2464.npy', 'melspec_2465.npy', 'melspec_2466.npy', 'melspec_2467.npy', 'melspec_2468.npy', 'melspec_2469.npy', 'melspec_247.npy', 'melspec_2470.npy', 'melspec_2471.npy', 'melspec_2472.npy', 'melspec_2473.npy', 'melspec_2474.npy', 'melspec_2475.npy', 'melspec_2476.npy', 'melspec_2477.npy', 'melspec_2478.npy', 'melspec_2479.npy', 'melspec_248.npy', 'melspec_2480.npy', 'melspec_2481.npy', 'melspec_2482.npy', 'melspec_2483.npy', 'melspec_2484.npy', 'melspec_2485.npy', 'melspec_2486.npy', 'melspec_2487.npy', 'melspec_2488.npy', 'melspec_2489.npy', 'melspec_249.npy', 'melspec_2490.npy', 'melspec_2491.npy', 'melspec_2492.npy', 'melspec_2493.npy', 'melspec_2494.npy', 'melspec_2495.npy', 'melspec_2496.npy', 'melspec_2497.npy', 'melspec_2498.npy', 'melspec_2499.npy', 'melspec_25.npy', 'melspec_250.npy', 'melspec_251.npy', 'melspec_252.npy', 'melspec_253.npy', 'melspec_254.npy', 'melspec_255.npy', 'melspec_256.npy', 'melspec_257.npy', 'melspec_258.npy', 'melspec_259.npy', 'melspec_26.npy', 'melspec_260.npy', 'melspec_261.npy', 'melspec_262.npy', 'melspec_263.npy', 'melspec_264.npy', 'melspec_265.npy', 'melspec_266.npy', 'melspec_267.npy', 'melspec_268.npy', 'melspec_269.npy', 'melspec_27.npy', 'melspec_270.npy', 'melspec_271.npy', 'melspec_272.npy', 'melspec_273.npy', 'melspec_274.npy', 'melspec_275.npy', 'melspec_276.npy', 'melspec_277.npy', 'melspec_278.npy', 'melspec_279.npy', 'melspec_28.npy', 'melspec_280.npy', 'melspec_281.npy', 'melspec_282.npy', 'melspec_283.npy', 'melspec_284.npy', 'melspec_285.npy', 'melspec_286.npy', 'melspec_287.npy', 'melspec_288.npy', 'melspec_289.npy', 'melspec_29.npy', 'melspec_290.npy', 'melspec_291.npy', 'melspec_292.npy', 'melspec_293.npy', 'melspec_294.npy', 'melspec_295.npy', 'melspec_296.npy', 'melspec_297.npy', 'melspec_298.npy', 'melspec_299.npy', 'melspec_3.npy', 'melspec_30.npy', 'melspec_300.npy', 'melspec_301.npy', 'melspec_302.npy', 'melspec_303.npy', 'melspec_304.npy', 'melspec_305.npy', 'melspec_306.npy', 'melspec_307.npy', 'melspec_308.npy', 'melspec_309.npy', 'melspec_31.npy', 'melspec_310.npy', 'melspec_311.npy', 'melspec_312.npy', 'melspec_313.npy', 'melspec_314.npy', 'melspec_315.npy', 'melspec_316.npy', 'melspec_317.npy', 'melspec_318.npy', 'melspec_319.npy', 'melspec_32.npy', 'melspec_320.npy', 'melspec_321.npy', 'melspec_322.npy', 'melspec_323.npy', 'melspec_324.npy', 'melspec_325.npy', 'melspec_326.npy', 'melspec_327.npy', 'melspec_328.npy', 'melspec_329.npy', 'melspec_33.npy', 'melspec_330.npy', 'melspec_331.npy', 'melspec_332.npy', 'melspec_333.npy', 'melspec_334.npy', 'melspec_335.npy', 'melspec_336.npy', 'melspec_337.npy', 'melspec_338.npy', 'melspec_339.npy', 'melspec_34.npy', 'melspec_340.npy', 'melspec_341.npy', 'melspec_342.npy', 'melspec_343.npy', 'melspec_344.npy', 'melspec_345.npy', 'melspec_346.npy', 'melspec_347.npy', 'melspec_348.npy', 'melspec_349.npy', 'melspec_35.npy', 'melspec_350.npy', 'melspec_351.npy', 'melspec_352.npy', 'melspec_353.npy', 'melspec_354.npy', 'melspec_355.npy', 'melspec_356.npy', 'melspec_357.npy', 'melspec_358.npy', 'melspec_359.npy', 'melspec_36.npy', 'melspec_360.npy', 'melspec_361.npy', 'melspec_362.npy', 'melspec_363.npy', 'melspec_364.npy', 'melspec_365.npy', 'melspec_366.npy', 'melspec_367.npy', 'melspec_368.npy', 'melspec_369.npy', 'melspec_37.npy', 'melspec_370.npy', 'melspec_371.npy', 'melspec_372.npy', 'melspec_373.npy', 'melspec_374.npy', 'melspec_375.npy', 'melspec_376.npy', 'melspec_377.npy', 'melspec_378.npy', 'melspec_379.npy', 'melspec_38.npy', 'melspec_380.npy', 'melspec_381.npy', 'melspec_382.npy', 'melspec_383.npy', 'melspec_384.npy', 'melspec_385.npy', 'melspec_386.npy', 'melspec_387.npy', 'melspec_388.npy', 'melspec_389.npy', 'melspec_39.npy', 'melspec_390.npy', 'melspec_391.npy', 'melspec_392.npy', 'melspec_393.npy', 'melspec_394.npy', 'melspec_395.npy', 'melspec_396.npy', 'melspec_397.npy', 'melspec_398.npy', 'melspec_399.npy', 'melspec_4.npy', 'melspec_40.npy', 'melspec_400.npy', 'melspec_401.npy', 'melspec_402.npy', 'melspec_403.npy', 'melspec_404.npy', 'melspec_405.npy', 'melspec_406.npy', 'melspec_407.npy', 'melspec_408.npy', 'melspec_409.npy', 'melspec_41.npy', 'melspec_410.npy', 'melspec_411.npy', 'melspec_412.npy', 'melspec_413.npy', 'melspec_414.npy', 'melspec_415.npy', 'melspec_416.npy', 'melspec_417.npy', 'melspec_418.npy', 'melspec_419.npy', 'melspec_42.npy', 'melspec_420.npy', 'melspec_421.npy', 'melspec_422.npy', 'melspec_423.npy', 'melspec_424.npy', 'melspec_425.npy', 'melspec_426.npy', 'melspec_427.npy', 'melspec_428.npy', 'melspec_429.npy', 'melspec_43.npy', 'melspec_430.npy', 'melspec_431.npy', 'melspec_432.npy', 'melspec_433.npy', 'melspec_434.npy', 'melspec_435.npy', 'melspec_436.npy', 'melspec_437.npy', 'melspec_438.npy', 'melspec_439.npy', 'melspec_44.npy', 'melspec_440.npy', 'melspec_441.npy', 'melspec_442.npy', 'melspec_443.npy', 'melspec_444.npy', 'melspec_445.npy', 'melspec_446.npy', 'melspec_447.npy', 'melspec_448.npy', 'melspec_449.npy', 'melspec_45.npy', 'melspec_450.npy', 'melspec_451.npy', 'melspec_452.npy', 'melspec_453.npy', 'melspec_454.npy', 'melspec_455.npy', 'melspec_456.npy', 'melspec_457.npy', 'melspec_458.npy', 'melspec_459.npy', 'melspec_46.npy', 'melspec_460.npy', 'melspec_461.npy', 'melspec_462.npy', 'melspec_463.npy', 'melspec_464.npy', 'melspec_465.npy', 'melspec_466.npy', 'melspec_467.npy', 'melspec_468.npy', 'melspec_469.npy', 'melspec_47.npy', 'melspec_470.npy', 'melspec_471.npy', 'melspec_472.npy', 'melspec_473.npy', 'melspec_474.npy', 'melspec_475.npy', 'melspec_476.npy', 'melspec_477.npy', 'melspec_478.npy', 'melspec_479.npy', 'melspec_48.npy', 'melspec_480.npy', 'melspec_481.npy', 'melspec_482.npy', 'melspec_483.npy', 'melspec_484.npy', 'melspec_485.npy', 'melspec_486.npy', 'melspec_487.npy', 'melspec_488.npy', 'melspec_489.npy', 'melspec_49.npy', 'melspec_490.npy', 'melspec_491.npy', 'melspec_492.npy', 'melspec_493.npy', 'melspec_494.npy', 'melspec_495.npy', 'melspec_496.npy', 'melspec_497.npy', 'melspec_498.npy', 'melspec_499.npy', 'melspec_5.npy', 'melspec_50.npy', 'melspec_500.npy', 'melspec_501.npy', 'melspec_502.npy', 'melspec_503.npy', 'melspec_504.npy', 'melspec_505.npy', 'melspec_506.npy', 'melspec_507.npy', 'melspec_508.npy', 'melspec_509.npy', 'melspec_51.npy', 'melspec_510.npy', 'melspec_511.npy', 'melspec_512.npy', 'melspec_513.npy', 'melspec_514.npy', 'melspec_515.npy', 'melspec_516.npy', 'melspec_517.npy', 'melspec_518.npy', 'melspec_519.npy', 'melspec_52.npy', 'melspec_520.npy', 'melspec_521.npy', 'melspec_522.npy', 'melspec_523.npy', 'melspec_524.npy', 'melspec_525.npy', 'melspec_526.npy', 'melspec_527.npy', 'melspec_528.npy', 'melspec_529.npy', 'melspec_53.npy', 'melspec_530.npy', 'melspec_531.npy', 'melspec_532.npy', 'melspec_533.npy', 'melspec_534.npy', 'melspec_535.npy', 'melspec_536.npy', 'melspec_537.npy', 'melspec_538.npy', 'melspec_539.npy', 'melspec_54.npy', 'melspec_540.npy', 'melspec_541.npy', 'melspec_542.npy', 'melspec_543.npy', 'melspec_544.npy', 'melspec_545.npy', 'melspec_546.npy', 'melspec_547.npy', 'melspec_548.npy', 'melspec_549.npy', 'melspec_55.npy', 'melspec_550.npy', 'melspec_551.npy', 'melspec_552.npy', 'melspec_553.npy', 'melspec_554.npy', 'melspec_555.npy', 'melspec_556.npy', 'melspec_557.npy', 'melspec_558.npy', 'melspec_559.npy', 'melspec_56.npy', 'melspec_560.npy', 'melspec_561.npy', 'melspec_562.npy', 'melspec_563.npy', 'melspec_564.npy', 'melspec_565.npy', 'melspec_566.npy', 'melspec_567.npy', 'melspec_568.npy', 'melspec_569.npy', 'melspec_57.npy', 'melspec_570.npy', 'melspec_571.npy', 'melspec_572.npy', 'melspec_573.npy', 'melspec_574.npy', 'melspec_575.npy', 'melspec_576.npy', 'melspec_577.npy', 'melspec_578.npy', 'melspec_579.npy', 'melspec_58.npy', 'melspec_580.npy', 'melspec_581.npy', 'melspec_582.npy', 'melspec_583.npy', 'melspec_584.npy', 'melspec_585.npy', 'melspec_586.npy', 'melspec_587.npy', 'melspec_588.npy', 'melspec_589.npy', 'melspec_59.npy', 'melspec_590.npy', 'melspec_591.npy', 'melspec_592.npy', 'melspec_593.npy', 'melspec_594.npy', 'melspec_595.npy', 'melspec_596.npy', 'melspec_597.npy', 'melspec_598.npy', 'melspec_599.npy', 'melspec_6.npy', 'melspec_60.npy', 'melspec_600.npy', 'melspec_601.npy', 'melspec_602.npy', 'melspec_603.npy', 'melspec_604.npy', 'melspec_605.npy', 'melspec_606.npy', 'melspec_607.npy', 'melspec_608.npy', 'melspec_609.npy', 'melspec_61.npy', 'melspec_610.npy', 'melspec_611.npy', 'melspec_612.npy', 'melspec_613.npy', 'melspec_614.npy', 'melspec_615.npy', 'melspec_616.npy', 'melspec_617.npy', 'melspec_618.npy', 'melspec_619.npy', 'melspec_62.npy', 'melspec_620.npy', 'melspec_621.npy', 'melspec_622.npy', 'melspec_623.npy', 'melspec_624.npy', 'melspec_625.npy', 'melspec_626.npy', 'melspec_627.npy', 'melspec_628.npy', 'melspec_629.npy', 'melspec_63.npy', 'melspec_630.npy', 'melspec_631.npy', 'melspec_632.npy', 'melspec_633.npy', 'melspec_634.npy', 'melspec_635.npy', 'melspec_636.npy', 'melspec_637.npy', 'melspec_638.npy', 'melspec_639.npy', 'melspec_64.npy', 'melspec_640.npy', 'melspec_641.npy', 'melspec_642.npy', 'melspec_643.npy', 'melspec_644.npy', 'melspec_645.npy', 'melspec_646.npy', 'melspec_647.npy', 'melspec_648.npy', 'melspec_649.npy', 'melspec_65.npy', 'melspec_650.npy', 'melspec_651.npy', 'melspec_652.npy', 'melspec_653.npy', 'melspec_654.npy', 'melspec_655.npy', 'melspec_656.npy', 'melspec_657.npy', 'melspec_658.npy', 'melspec_659.npy', 'melspec_66.npy', 'melspec_660.npy', 'melspec_661.npy', 'melspec_662.npy', 'melspec_663.npy', 'melspec_664.npy', 'melspec_665.npy', 'melspec_666.npy', 'melspec_667.npy', 'melspec_668.npy', 'melspec_669.npy', 'melspec_67.npy', 'melspec_670.npy', 'melspec_671.npy', 'melspec_672.npy', 'melspec_673.npy', 'melspec_674.npy', 'melspec_675.npy', 'melspec_676.npy', 'melspec_677.npy', 'melspec_678.npy', 'melspec_679.npy', 'melspec_68.npy', 'melspec_680.npy', 'melspec_681.npy', 'melspec_682.npy', 'melspec_683.npy', 'melspec_684.npy', 'melspec_685.npy', 'melspec_686.npy', 'melspec_687.npy', 'melspec_688.npy', 'melspec_689.npy', 'melspec_69.npy', 'melspec_690.npy', 'melspec_691.npy', 'melspec_692.npy', 'melspec_693.npy', 'melspec_694.npy', 'melspec_695.npy', 'melspec_696.npy', 'melspec_697.npy', 'melspec_698.npy', 'melspec_699.npy', 'melspec_7.npy', 'melspec_70.npy', 'melspec_700.npy', 'melspec_701.npy', 'melspec_702.npy', 'melspec_703.npy', 'melspec_704.npy', 'melspec_705.npy', 'melspec_706.npy', 'melspec_707.npy', 'melspec_708.npy', 'melspec_709.npy', 'melspec_71.npy', 'melspec_710.npy', 'melspec_711.npy', 'melspec_712.npy', 'melspec_713.npy', 'melspec_714.npy', 'melspec_715.npy', 'melspec_716.npy', 'melspec_717.npy', 'melspec_718.npy', 'melspec_719.npy', 'melspec_72.npy', 'melspec_720.npy', 'melspec_721.npy', 'melspec_722.npy', 'melspec_723.npy', 'melspec_724.npy', 'melspec_725.npy', 'melspec_726.npy', 'melspec_727.npy', 'melspec_728.npy', 'melspec_729.npy', 'melspec_73.npy', 'melspec_730.npy', 'melspec_731.npy', 'melspec_732.npy', 'melspec_733.npy', 'melspec_734.npy', 'melspec_735.npy', 'melspec_736.npy', 'melspec_737.npy', 'melspec_738.npy', 'melspec_739.npy', 'melspec_74.npy', 'melspec_740.npy', 'melspec_741.npy', 'melspec_742.npy', 'melspec_743.npy', 'melspec_744.npy', 'melspec_745.npy', 'melspec_746.npy', 'melspec_747.npy', 'melspec_748.npy', 'melspec_749.npy', 'melspec_75.npy', 'melspec_750.npy', 'melspec_751.npy', 'melspec_752.npy', 'melspec_753.npy', 'melspec_754.npy', 'melspec_755.npy', 'melspec_756.npy', 'melspec_757.npy', 'melspec_758.npy', 'melspec_759.npy', 'melspec_76.npy', 'melspec_760.npy', 'melspec_761.npy', 'melspec_762.npy', 'melspec_763.npy', 'melspec_764.npy', 'melspec_765.npy', 'melspec_766.npy', 'melspec_767.npy', 'melspec_768.npy', 'melspec_769.npy', 'melspec_77.npy', 'melspec_770.npy', 'melspec_771.npy', 'melspec_772.npy', 'melspec_773.npy', 'melspec_774.npy', 'melspec_775.npy', 'melspec_776.npy', 'melspec_777.npy', 'melspec_778.npy', 'melspec_779.npy', 'melspec_78.npy', 'melspec_780.npy', 'melspec_781.npy', 'melspec_782.npy', 'melspec_783.npy', 'melspec_784.npy', 'melspec_785.npy', 'melspec_786.npy', 'melspec_787.npy', 'melspec_788.npy', 'melspec_789.npy', 'melspec_79.npy', 'melspec_790.npy', 'melspec_791.npy', 'melspec_792.npy', 'melspec_793.npy', 'melspec_794.npy', 'melspec_795.npy', 'melspec_796.npy', 'melspec_797.npy', 'melspec_798.npy', 'melspec_799.npy', 'melspec_8.npy', 'melspec_80.npy', 'melspec_800.npy', 'melspec_801.npy', 'melspec_802.npy', 'melspec_803.npy', 'melspec_804.npy', 'melspec_805.npy', 'melspec_806.npy', 'melspec_807.npy', 'melspec_808.npy', 'melspec_809.npy', 'melspec_81.npy', 'melspec_810.npy', 'melspec_811.npy', 'melspec_812.npy', 'melspec_813.npy', 'melspec_814.npy', 'melspec_815.npy', 'melspec_816.npy', 'melspec_817.npy', 'melspec_818.npy', 'melspec_819.npy', 'melspec_82.npy', 'melspec_820.npy', 'melspec_821.npy', 'melspec_822.npy', 'melspec_823.npy', 'melspec_824.npy', 'melspec_825.npy', 'melspec_826.npy', 'melspec_827.npy', 'melspec_828.npy', 'melspec_829.npy', 'melspec_83.npy', 'melspec_830.npy', 'melspec_831.npy', 'melspec_832.npy', 'melspec_833.npy', 'melspec_834.npy', 'melspec_835.npy', 'melspec_836.npy', 'melspec_837.npy', 'melspec_838.npy', 'melspec_839.npy', 'melspec_84.npy', 'melspec_840.npy', 'melspec_841.npy', 'melspec_842.npy', 'melspec_843.npy', 'melspec_844.npy', 'melspec_845.npy', 'melspec_846.npy', 'melspec_847.npy', 'melspec_848.npy', 'melspec_849.npy', 'melspec_85.npy', 'melspec_850.npy', 'melspec_851.npy', 'melspec_852.npy', 'melspec_853.npy', 'melspec_854.npy', 'melspec_855.npy', 'melspec_856.npy', 'melspec_857.npy', 'melspec_858.npy', 'melspec_859.npy', 'melspec_86.npy', 'melspec_860.npy', 'melspec_861.npy', 'melspec_862.npy', 'melspec_863.npy', 'melspec_864.npy', 'melspec_865.npy', 'melspec_866.npy', 'melspec_867.npy', 'melspec_868.npy', 'melspec_869.npy', 'melspec_87.npy', 'melspec_870.npy', 'melspec_871.npy', 'melspec_872.npy', 'melspec_873.npy', 'melspec_874.npy', 'melspec_875.npy', 'melspec_876.npy', 'melspec_877.npy', 'melspec_878.npy', 'melspec_879.npy', 'melspec_88.npy', 'melspec_880.npy', 'melspec_881.npy', 'melspec_882.npy', 'melspec_883.npy', 'melspec_884.npy', 'melspec_885.npy', 'melspec_886.npy', 'melspec_887.npy', 'melspec_888.npy', 'melspec_889.npy', 'melspec_89.npy', 'melspec_890.npy', 'melspec_891.npy', 'melspec_892.npy', 'melspec_893.npy', 'melspec_894.npy', 'melspec_895.npy', 'melspec_896.npy', 'melspec_897.npy', 'melspec_898.npy', 'melspec_899.npy', 'melspec_9.npy', 'melspec_90.npy', 'melspec_900.npy', 'melspec_901.npy', 'melspec_902.npy', 'melspec_903.npy', 'melspec_904.npy', 'melspec_905.npy', 'melspec_906.npy', 'melspec_907.npy', 'melspec_908.npy', 'melspec_909.npy', 'melspec_91.npy', 'melspec_910.npy', 'melspec_911.npy', 'melspec_912.npy', 'melspec_913.npy', 'melspec_914.npy', 'melspec_915.npy', 'melspec_916.npy', 'melspec_917.npy', 'melspec_918.npy', 'melspec_919.npy', 'melspec_92.npy', 'melspec_920.npy', 'melspec_921.npy', 'melspec_922.npy', 'melspec_923.npy', 'melspec_924.npy', 'melspec_925.npy', 'melspec_926.npy', 'melspec_927.npy', 'melspec_928.npy', 'melspec_929.npy', 'melspec_93.npy', 'melspec_930.npy', 'melspec_931.npy', 'melspec_932.npy', 'melspec_933.npy', 'melspec_934.npy', 'melspec_935.npy', 'melspec_936.npy', 'melspec_937.npy', 'melspec_938.npy', 'melspec_939.npy', 'melspec_94.npy', 'melspec_940.npy', 'melspec_941.npy', 'melspec_942.npy', 'melspec_943.npy', 'melspec_944.npy', 'melspec_945.npy', 'melspec_946.npy', 'melspec_947.npy', 'melspec_948.npy', 'melspec_949.npy', 'melspec_95.npy', 'melspec_950.npy', 'melspec_951.npy', 'melspec_952.npy', 'melspec_953.npy', 'melspec_954.npy', 'melspec_955.npy', 'melspec_956.npy', 'melspec_957.npy', 'melspec_958.npy', 'melspec_959.npy', 'melspec_96.npy', 'melspec_960.npy', 'melspec_961.npy', 'melspec_962.npy', 'melspec_963.npy', 'melspec_964.npy', 'melspec_965.npy', 'melspec_966.npy', 'melspec_967.npy', 'melspec_968.npy', 'melspec_969.npy', 'melspec_97.npy', 'melspec_970.npy', 'melspec_971.npy', 'melspec_972.npy', 'melspec_973.npy', 'melspec_974.npy', 'melspec_975.npy', 'melspec_976.npy', 'melspec_977.npy', 'melspec_978.npy', 'melspec_979.npy', 'melspec_98.npy', 'melspec_980.npy', 'melspec_981.npy', 'melspec_982.npy', 'melspec_983.npy', 'melspec_984.npy', 'melspec_985.npy', 'melspec_986.npy', 'melspec_987.npy', 'melspec_988.npy', 'melspec_989.npy', 'melspec_99.npy', 'melspec_990.npy', 'melspec_991.npy', 'melspec_992.npy', 'melspec_993.npy', 'melspec_994.npy', 'melspec_995.npy', 'melspec_996.npy', 'melspec_997.npy', 'melspec_998.npy', 'melspec_999.npy']\n"
          ]
        },
        {
          "output_type": "stream",
          "name": "stderr",
          "text": [
            "\n"
          ]
        }
      ]
    },
    {
      "cell_type": "markdown",
      "source": [
        "##Code block below is useless and is for personal purpose only"
      ],
      "metadata": {
        "id": "dcWvemwtrJzh"
      }
    },
    {
      "cell_type": "code",
      "source": [
        "arr = np.load(\"/content/drive/MyDrive/val_dataset/dataset/Y/eventroll_1171.npy\")"
      ],
      "metadata": {
        "id": "DORewf_tIS-C"
      },
      "execution_count": 30,
      "outputs": []
    },
    {
      "cell_type": "code",
      "source": [
        "arr = (np.sum(arr,axis=1))>0"
      ],
      "metadata": {
        "id": "F1Oy1yMxIi8e"
      },
      "execution_count": 31,
      "outputs": []
    },
    {
      "cell_type": "code",
      "source": [
        "# with torch.no_grad():\n",
        "#     correct_pred = 0\n",
        "#     correct_pred_val = 0\n",
        "#     TP = 0\n",
        "#     TP_val = 0\n",
        "#     FP = 0\n",
        "#     FP_val = 0\n",
        "#     TN = 0\n",
        "#     TN_val = 0\n",
        "#     FN = 0\n",
        "#     FN_val = 0\n",
        "#     for batch in tqdm(validation_loader):\n",
        "#         x = batch[\"spec\"].cuda()\n",
        "#         y = batch[\"label\"]\n",
        "#         y = y.float()\n",
        "#         y = y.cuda()\n",
        "#         pred = model(x)\n",
        "#         pred = (pred>0.5)\n",
        "#         correct_pred_val += torch.sum(pred==y)\n",
        "#         TP_val += torch.sum(torch.logical_and(pred,y))\n",
        "#         TN_val += torch.sum(torch.logical_and(torch.logical_not(pred),torch.logical_not(y)))\n",
        "#         FP_val += torch.sum(torch.logical_and(torch.logical_not(y),pred))\n",
        "#         FN_val += torch.sum(torch.logical_and(torch.logical_not(pred),y))\n",
        "#     recall_val = TP_val.item()/(TP_val.item()+FN_val.item())\n",
        "#     precision_val = TP_val.item()/(TP_val.item()+FP_val.item())\n",
        "#     f1_score_val = (2 * precision_val * recall_val)/(precision_val+recall_val)\n",
        "#     total_pred_val = 11*batch_size*len(validation_loader)\n",
        "#     val_accuracy = (correct_pred_val.item())/total_pred_val\n",
        "#     print(\"---At iteration {}--Accuracy: {}----F1 score: {}----Recall: {}----Precision: {}\".format(iter,val_accuracy,f1_score_val,recall_val,precision_val))    "
      ],
      "metadata": {
        "id": "lsXNbDDQmh3q"
      },
      "execution_count": null,
      "outputs": []
    },
    {
      "cell_type": "code",
      "source": [
        "cl = []\n",
        "for i in range(11):\n",
        "  if (arr[i])==1:\n",
        "    cl.append(events_types[i])\n",
        "print(cl)"
      ],
      "metadata": {
        "colab": {
          "base_uri": "https://localhost:8080/"
        },
        "id": "gLY4ZFM6IuYJ",
        "outputId": "daf8eee4-eaeb-4118-e966-64f0acc2e923"
      },
      "execution_count": 32,
      "outputs": [
        {
          "output_type": "stream",
          "name": "stdout",
          "text": [
            "['Blender', 'Silence']\n"
          ]
        }
      ]
    }
  ]
}